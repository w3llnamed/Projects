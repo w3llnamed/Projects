{
 "cells": [
  {
   "cell_type": "markdown",
   "id": "006f5490",
   "metadata": {},
   "source": [
    "# <center>Проект исследования оттока клиентов банка \"Скрудж\"</center>"
   ]
  },
  {
   "cell_type": "markdown",
   "id": "f34e2d64",
   "metadata": {
    "toc": true
   },
   "source": [
    "<h1>Содержание<span class=\"tocSkip\"></span></h1>\n",
    "<div class=\"toc\"><ul class=\"toc-item\"><li><span><a href=\"#Проект-исследования-оттока-клиентов-банка-&quot;Скрудж&quot;\" data-toc-modified-id=\"Проект-исследования-оттока-клиентов-банка-&quot;Скрудж&quot;-1\"><center>Проект исследования оттока клиентов банка \"Скрудж\"</center></a></span><ul class=\"toc-item\"><li><span><a href=\"#Краткое-описание-исследования\" data-toc-modified-id=\"Краткое-описание-исследования-1.1\"><center>Краткое описание исследования</center></a></span></li><li><span><a href=\"#Предобработка-данных\" data-toc-modified-id=\"Предобработка-данных-1.2\"><center>Предобработка данных</center></a></span><ul class=\"toc-item\"><li><span><a href=\"#Проверка-корректности-наименований-колонок-и-их-переименование\" data-toc-modified-id=\"Проверка-корректности-наименований-колонок-и-их-переименование-1.2.1\">Проверка корректности наименований колонок и их переименование</a></span></li><li><span><a href=\"#Проверка-корректности-типов-данных-и-их-приведение-к-корректным\" data-toc-modified-id=\"Проверка-корректности-типов-данных-и-их-приведение-к-корректным-1.2.2\">Проверка корректности типов данных и их приведение к корректным</a></span></li><li><span><a href=\"#Проверка-наличия-и-удаление-дубликатов\" data-toc-modified-id=\"Проверка-наличия-и-удаление-дубликатов-1.2.3\">Проверка наличия и удаление дубликатов</a></span></li><li><span><a href=\"#Исследование-пропущенных-значений\" data-toc-modified-id=\"Исследование-пропущенных-значений-1.2.4\">Исследование пропущенных значений</a></span></li></ul></li><li><span><a href=\"#Исследовательский-анализ-данных\" data-toc-modified-id=\"Исследовательский-анализ-данных-1.3\"><center>Исследовательский анализ данных</center></a></span><ul class=\"toc-item\"><li><span><a href=\"#Анализ-оттока\" data-toc-modified-id=\"Анализ-оттока-1.3.1\">Анализ оттока</a></span></li><li><span><a href=\"#Анализ-кредитного-скорринга\" data-toc-modified-id=\"Анализ-кредитного-скорринга-1.3.2\">Анализ кредитного скорринга</a></span></li><li><span><a href=\"#Анализ-возраста\" data-toc-modified-id=\"Анализ-возраста-1.3.3\">Анализ возраста</a></span></li><li><span><a href=\"#Анализ-оценок-собственности-клиентов\" data-toc-modified-id=\"Анализ-оценок-собственности-клиентов-1.3.4\">Анализ оценок собственности клиентов</a></span></li><li><span><a href=\"#Анализ-баланса\" data-toc-modified-id=\"Анализ-баланса-1.3.5\">Анализ баланса</a></span></li><li><span><a href=\"#Анализ-используемых-продуктов\" data-toc-modified-id=\"Анализ-используемых-продуктов-1.3.6\">Анализ используемых продуктов</a></span></li><li><span><a href=\"#Анализ-наличия-кредитных-карт\" data-toc-modified-id=\"Анализ-наличия-кредитных-карт-1.3.7\">Анализ наличия кредитных карт</a></span></li><li><span><a href=\"#Анализ-проявления-активности-в-последнее-время\" data-toc-modified-id=\"Анализ-проявления-активности-в-последнее-время-1.3.8\">Анализ проявления активности в последнее время</a></span></li><li><span><a href=\"#Анализ-зарплаты\" data-toc-modified-id=\"Анализ-зарплаты-1.3.9\">Анализ зарплаты</a></span></li><li><span><a href=\"#Анализ-городов\" data-toc-modified-id=\"Анализ-городов-1.3.10\">Анализ городов</a></span></li><li><span><a href=\"#Анализ-полов\" data-toc-modified-id=\"Анализ-полов-1.3.11\">Анализ полов</a></span></li><li><span><a href=\"#Анализ-аномалий\" data-toc-modified-id=\"Анализ-аномалий-1.3.12\">Анализ аномалий</a></span></li></ul></li><li><span><a href=\"#Исследование-данных-в-разрезе-оттока\" data-toc-modified-id=\"Исследование-данных-в-разрезе-оттока-1.4\"><center>Исследование данных в разрезе оттока</center></a></span><ul class=\"toc-item\"><li><span><a href=\"#Кредитный-скорринг-клиентов-в-разрезе-оттока\" data-toc-modified-id=\"Кредитный-скорринг-клиентов-в-разрезе-оттока-1.4.1\">Кредитный скорринг клиентов в разрезе оттока</a></span></li><li><span><a href=\"#Возраст-клиентов-в-разрезе-оттока\" data-toc-modified-id=\"Возраст-клиентов-в-разрезе-оттока-1.4.2\">Возраст клиентов в разрезе оттока</a></span></li><li><span><a href=\"#Оценка-имущества-клиентов-в-разрезе-оттока\" data-toc-modified-id=\"Оценка-имущества-клиентов-в-разрезе-оттока-1.4.3\">Оценка имущества клиентов в разрезе оттока</a></span></li><li><span><a href=\"#Баланс-клиентов-в-разрезе-оттока\" data-toc-modified-id=\"Баланс-клиентов-в-разрезе-оттока-1.4.4\">Баланс клиентов в разрезе оттока</a></span></li><li><span><a href=\"#Количество-продуктов-используемых-клиентами-в-разрезе-оттока\" data-toc-modified-id=\"Количество-продуктов-используемых-клиентами-в-разрезе-оттока-1.4.5\">Количество продуктов используемых клиентами в разрезе оттока</a></span></li><li><span><a href=\"#Наличие-кредитной-карты-у-клиентов-в-разрезе-оттока\" data-toc-modified-id=\"Наличие-кредитной-карты-у-клиентов-в-разрезе-оттока-1.4.6\">Наличие кредитной карты у клиентов в разрезе оттока</a></span></li><li><span><a href=\"#Активность-клиентов-в-последнее-время-в-разрезе-оттока\" data-toc-modified-id=\"Активность-клиентов-в-последнее-время-в-разрезе-оттока-1.4.7\">Активность клиентов в последнее время в разрезе оттока</a></span></li><li><span><a href=\"#Города-в-разрезе-оттока\" data-toc-modified-id=\"Города-в-разрезе-оттока-1.4.8\">Города в разрезе оттока</a></span></li><li><span><a href=\"#Пол-клиентов-в-разрезе-оттока\" data-toc-modified-id=\"Пол-клиентов-в-разрезе-оттока-1.4.9\">Пол клиентов в разрезе оттока</a></span></li><li><span><a href=\"#Зарплата-клиентов-в-разрезе-оттока\" data-toc-modified-id=\"Зарплата-клиентов-в-разрезе-оттока-1.4.10\">Зарплата клиентов в разрезе оттока</a></span></li><li><span><a href=\"#Совмещение-отточных-сегментов\" data-toc-modified-id=\"Совмещение-отточных-сегментов-1.4.11\">Совмещение отточных сегментов</a></span></li></ul></li><li><span><a href=\"#Общие-выводы\" data-toc-modified-id=\"Общие-выводы-1.5\"><center>Общие выводы</center></a></span><ul class=\"toc-item\"><li><span><a href=\"#Выводы-сегментации:\" data-toc-modified-id=\"Выводы-сегментации:-1.5.1\">Выводы сегментации:</a></span></li><li><span><a href=\"#Портрет-отточного-клиента\" data-toc-modified-id=\"Портрет-отточного-клиента-1.5.2\">Портрет отточного клиента</a></span></li><li><span><a href=\"#Рекомендации-для-менеджера-отдела-маркетинга\" data-toc-modified-id=\"Рекомендации-для-менеджера-отдела-маркетинга-1.5.3\">Рекомендации для менеджера отдела маркетинга</a></span></li></ul></li></ul></li></ul></div>"
   ]
  },
  {
   "cell_type": "markdown",
   "id": "e1d90e2a",
   "metadata": {},
   "source": [
    "## <center>Краткое описание исследования</center>"
   ]
  },
  {
   "cell_type": "markdown",
   "id": "219235ef",
   "metadata": {},
   "source": [
    "**Цель исследования:**\n",
    "На основании характеристик клиентов (представленных в датасете) определить сегшенты, в которых клиенты потенциально склонны прекратить отношения с банком"
   ]
  },
  {
   "cell_type": "markdown",
   "id": "0d0c841e",
   "metadata": {},
   "source": [
    "**Заказчик исследования:**<br>\n",
    "Менеджер отдела маркетинга\n",
    "<br>\n",
    "\n",
    "**Решения, которые будут приняты на основе исследования:**<br>\n",
    "Решения, позволяющие удержать клиентов, которые потенциально склоны прекратить отношения с банком\n",
    "<br>\n",
    "\n",
    "**Исполнитель исследования:**<br>\n",
    "Младший аналитик данных Медведев Константин\n",
    "<br>\n",
    "\n",
    "**Исследование проводится с 10 октября 2022 года по 23 октября 2022 года**"
   ]
  },
  {
   "cell_type": "markdown",
   "id": "bce45fe2",
   "metadata": {},
   "source": [
    "**Имеющиеся характеристики клиентов:**\n",
    "1. Возраст\n",
    "2. Баланс на счёте\n",
    "3. Количество продуктов, которыми пользуется клиент\n",
    "4. Наличие кредитной карты\n",
    "5. Проявление активности в \"последнее\" время\n",
    "6. Баллы кредитного скорринга\n",
    "7. Город\n",
    "8. Пол\n",
    "9. Приблизительная оценка собственности клиента\n",
    "10. Заработная плата\n",
    "11. Факт прекращения отношений с банком"
   ]
  },
  {
   "cell_type": "code",
   "execution_count": 1,
   "id": "e564648d",
   "metadata": {},
   "outputs": [],
   "source": [
    "# Импорт необходимых для исследования пакетов\n",
    "import pandas as pd\n",
    "import matplotlib.pyplot as plt\n",
    "import matplotlib as mpl\n",
    "import seaborn as sns\n",
    "import phik\n",
    "from phik.report import plot_correlation_matrix\n",
    "from phik import report\n",
    "import numpy as np\n",
    "from scipy import stats\n",
    "\n",
    "# Задаём палитру графиков\n",
    "sns.set_palette('deep')"
   ]
  },
  {
   "cell_type": "code",
   "execution_count": 2,
   "id": "d928b8cc",
   "metadata": {},
   "outputs": [],
   "source": [
    "# Импорт датасета\n",
    "data_raw = pd.read_csv('bank_scrooge.csv')"
   ]
  },
  {
   "cell_type": "markdown",
   "id": "4371caa1",
   "metadata": {},
   "source": [
    "## <center>Предобработка данных</center>"
   ]
  },
  {
   "cell_type": "markdown",
   "id": "634f314e",
   "metadata": {},
   "source": [
    "### Проверка корректности наименований колонок и их переименование"
   ]
  },
  {
   "cell_type": "code",
   "execution_count": 3,
   "id": "ea8fcb2b",
   "metadata": {
    "scrolled": true
   },
   "outputs": [
    {
     "data": {
      "text/plain": [
       "Index(['USERID', 'score', 'city', 'gender', 'age', 'equity', 'balance',\n",
       "       'products', 'credit_card', 'last_activity', 'EST_SALARY', 'churn'],\n",
       "      dtype='object')"
      ]
     },
     "metadata": {},
     "output_type": "display_data"
    },
    {
     "data": {
      "text/plain": [
       "Index(['user_id', 'score', 'city', 'gender', 'age', 'equity', 'balance',\n",
       "       'products', 'credit_card', 'last_activity', 'est_salary', 'churn'],\n",
       "      dtype='object')"
      ]
     },
     "execution_count": 3,
     "metadata": {},
     "output_type": "execute_result"
    }
   ],
   "source": [
    "# Проверка названий колонок\n",
    "display(data_raw.columns)\n",
    "\n",
    "# Приведение названий колонок к нижнему регистру и переименование их, проверка\n",
    "data_raw.columns = data_raw.columns.str.lower()\n",
    "data_raw.rename(columns={'userid':'user_id'}, inplace=True)\n",
    "data_raw.columns"
   ]
  },
  {
   "cell_type": "markdown",
   "id": "61ceafd0",
   "metadata": {},
   "source": [
    "**Выводы:**\n",
    "- Среди названий столбцов присутствуют некорректные\n",
    "- Все навзание столбцов были приведены к `snake_case`: `USERID` преименован в `user_id`, все остальные приведены к нижнему регистру"
   ]
  },
  {
   "cell_type": "markdown",
   "id": "b78713f5",
   "metadata": {},
   "source": [
    "### Проверка корректности типов данных и их приведение к корректным"
   ]
  },
  {
   "cell_type": "code",
   "execution_count": 4,
   "id": "0a557e0e",
   "metadata": {
    "scrolled": false
   },
   "outputs": [
    {
     "name": "stdout",
     "output_type": "stream",
     "text": [
      "<class 'pandas.core.frame.DataFrame'>\n",
      "RangeIndex: 10000 entries, 0 to 9999\n",
      "Data columns (total 12 columns):\n",
      " #   Column         Non-Null Count  Dtype  \n",
      "---  ------         --------------  -----  \n",
      " 0   user_id        10000 non-null  int64  \n",
      " 1   score          10000 non-null  float64\n",
      " 2   city           10000 non-null  object \n",
      " 3   gender         10000 non-null  object \n",
      " 4   age            10000 non-null  int64  \n",
      " 5   equity         10000 non-null  int64  \n",
      " 6   balance        7705 non-null   float64\n",
      " 7   products       10000 non-null  int64  \n",
      " 8   credit_card    10000 non-null  int64  \n",
      " 9   last_activity  10000 non-null  int64  \n",
      " 10  est_salary     10000 non-null  float64\n",
      " 11  churn          10000 non-null  int64  \n",
      "dtypes: float64(3), int64(7), object(2)\n",
      "memory usage: 937.6+ KB\n"
     ]
    }
   ],
   "source": [
    "# Првоерка типов данных\n",
    "data_raw.info()"
   ]
  },
  {
   "cell_type": "code",
   "execution_count": 5,
   "id": "7c3e02c1",
   "metadata": {},
   "outputs": [],
   "source": [
    "# Приведение типа данных столбца `score` к типу \"целые чисел\"\n",
    "data_raw['score'] = data_raw['score'].astype('int')\n",
    "\n",
    "# Создание фиктивных переменных \n",
    "data_raw['city_all'] = data_raw['city']\n",
    "data_raw = pd.get_dummies(data_raw, columns=['city', 'gender'])\n",
    "data_raw.rename(\n",
    "    columns={'city_all':'city', \n",
    "             'gender_М':'male', \n",
    "             'city_Ярославль':'yrslv_city', \n",
    "             'city_Рыбинск':'rbnsk_city', \n",
    "             'city_Ростов':'rstv_city'}, inplace=True\n",
    ")\n",
    "data_raw.drop(columns='gender_Ж', inplace=True)"
   ]
  },
  {
   "cell_type": "markdown",
   "id": "e153fd35",
   "metadata": {},
   "source": [
    "**Выводы:**\n",
    "- Типы данных корректны во всех столбцах, кроме `score` (дробные числа вместо целых)\n",
    "- Тип данных в столбце `score` бил приведен к типу целых чисел\n",
    "- Были созданы фиктивные переменные для столбцов `city` и `gender`: появились новые столбцы `rstv_city`, `rbnsk_city`, `yrslv_city`, `male` с бинарным типом данных для соответствующих характеристик"
   ]
  },
  {
   "cell_type": "markdown",
   "id": "cad291a5",
   "metadata": {},
   "source": [
    "### Проверка наличия и удаление дубликатов"
   ]
  },
  {
   "cell_type": "code",
   "execution_count": 6,
   "id": "de44b6f1",
   "metadata": {
    "scrolled": true
   },
   "outputs": [
    {
     "data": {
      "text/html": [
       "<div>\n",
       "<style scoped>\n",
       "    .dataframe tbody tr th:only-of-type {\n",
       "        vertical-align: middle;\n",
       "    }\n",
       "\n",
       "    .dataframe tbody tr th {\n",
       "        vertical-align: top;\n",
       "    }\n",
       "\n",
       "    .dataframe thead th {\n",
       "        text-align: right;\n",
       "    }\n",
       "</style>\n",
       "<table border=\"1\" class=\"dataframe\">\n",
       "  <thead>\n",
       "    <tr style=\"text-align: right;\">\n",
       "      <th></th>\n",
       "      <th>user_id</th>\n",
       "      <th>score</th>\n",
       "      <th>age</th>\n",
       "      <th>equity</th>\n",
       "      <th>balance</th>\n",
       "      <th>products</th>\n",
       "      <th>credit_card</th>\n",
       "      <th>last_activity</th>\n",
       "      <th>est_salary</th>\n",
       "      <th>churn</th>\n",
       "      <th>city</th>\n",
       "      <th>rstv_city</th>\n",
       "      <th>rbnsk_city</th>\n",
       "      <th>yrslv_city</th>\n",
       "      <th>male</th>\n",
       "    </tr>\n",
       "  </thead>\n",
       "  <tbody>\n",
       "    <tr>\n",
       "      <th>9457</th>\n",
       "      <td>141945</td>\n",
       "      <td>929</td>\n",
       "      <td>33</td>\n",
       "      <td>0</td>\n",
       "      <td>NaN</td>\n",
       "      <td>1</td>\n",
       "      <td>1</td>\n",
       "      <td>0</td>\n",
       "      <td>381868.89</td>\n",
       "      <td>0</td>\n",
       "      <td>Ярославль</td>\n",
       "      <td>0</td>\n",
       "      <td>0</td>\n",
       "      <td>1</td>\n",
       "      <td>1</td>\n",
       "    </tr>\n",
       "  </tbody>\n",
       "</table>\n",
       "</div>"
      ],
      "text/plain": [
       "      user_id  score  age  equity  balance  products  credit_card  \\\n",
       "9457   141945    929   33       0      NaN         1            1   \n",
       "\n",
       "      last_activity  est_salary  churn       city  rstv_city  rbnsk_city  \\\n",
       "9457              0   381868.89      0  Ярославль          0           0   \n",
       "\n",
       "      yrslv_city  male  \n",
       "9457           1     1  "
      ]
     },
     "metadata": {},
     "output_type": "display_data"
    }
   ],
   "source": [
    "# Обнаружение и удаление дубликатов\n",
    "data_raw.duplicated().sum()\n",
    "display(data_raw[data_raw.duplicated() == True])\n",
    "data_raw.drop_duplicates(inplace=True)"
   ]
  },
  {
   "cell_type": "markdown",
   "id": "296edf02",
   "metadata": {},
   "source": [
    "**Выводы:**\n",
    "- В данных был найден один дубликат; он был удалён"
   ]
  },
  {
   "cell_type": "markdown",
   "id": "867d858c",
   "metadata": {},
   "source": [
    "### Исследование пропущенных значений"
   ]
  },
  {
   "cell_type": "code",
   "execution_count": 7,
   "id": "71e275a3",
   "metadata": {},
   "outputs": [],
   "source": [
    "# Создание новых датасетов: только с пропусками в `balance` и без пропусков в `balance`\n",
    "data = data_raw.dropna()\n",
    "data_nan = data_raw.query('balance.isna() == True').copy()"
   ]
  },
  {
   "cell_type": "code",
   "execution_count": 8,
   "id": "803fca34",
   "metadata": {
    "scrolled": true
   },
   "outputs": [
    {
     "name": "stdout",
     "output_type": "stream",
     "text": [
      "interval columns not set, guessing: ['score', 'age', 'equity', 'balance', 'products', 'credit_card', 'last_activity', 'est_salary', 'churn', 'male']\n"
     ]
    },
    {
     "data": {
      "image/png": "[encoded data removed]",
      "text/plain": [
       "<Figure size 720x576 with 2 Axes>"
      ]
     },
     "metadata": {
      "needs_background": "light"
     },
     "output_type": "display_data"
    }
   ],
   "source": [
    "# Построение матрицы коррелиций по ФИ-к\n",
    "phik_overview = data_raw[['score', \n",
    "                      'age', \n",
    "                      'equity', \n",
    "                      'balance', \n",
    "                      'products', \n",
    "                      'credit_card', \n",
    "                      'last_activity', \n",
    "                      'est_salary', \n",
    "                      'churn', \n",
    "                      'city', \n",
    "                      'male']].phik_matrix()\n",
    "\n",
    "plot_correlation_matrix(phik_overview.values, \n",
    "                        x_labels=phik_overview.columns, \n",
    "                        y_labels=phik_overview.index, \n",
    "                        vmin=0, vmax=1, color_map=\"Greens\", \n",
    "                        title=r\"correlation $\\phi_K$\", \n",
    "                        fontsize_factor=1.5, \n",
    "                        figsize=(10, 8))"
   ]
  },
  {
   "cell_type": "code",
   "execution_count": 9,
   "id": "cce77614",
   "metadata": {},
   "outputs": [
    {
     "ename": "NameError",
     "evalue": "name 'LinearRegression' is not defined",
     "output_type": "error",
     "traceback": [
      "\u001b[1;31m---------------------------------------------------------------------------\u001b[0m",
      "\u001b[1;31mNameError\u001b[0m                                 Traceback (most recent call last)",
      "Input \u001b[1;32mIn [9]\u001b[0m, in \u001b[0;36m<cell line: 4>\u001b[1;34m()\u001b[0m\n\u001b[0;32m      2\u001b[0m x_train \u001b[38;5;241m=\u001b[39m data[[\u001b[38;5;124m'\u001b[39m\u001b[38;5;124mest_salary\u001b[39m\u001b[38;5;124m'\u001b[39m, \u001b[38;5;124m'\u001b[39m\u001b[38;5;124mscore\u001b[39m\u001b[38;5;124m'\u001b[39m]]\n\u001b[0;32m      3\u001b[0m y_train \u001b[38;5;241m=\u001b[39m data[\u001b[38;5;124m'\u001b[39m\u001b[38;5;124mbalance\u001b[39m\u001b[38;5;124m'\u001b[39m]\n\u001b[1;32m----> 4\u001b[0m lr \u001b[38;5;241m=\u001b[39m \u001b[43mLinearRegression\u001b[49m()\n\u001b[0;32m      5\u001b[0m lr\u001b[38;5;241m.\u001b[39mfit(x_train, y_train)\n\u001b[0;32m      7\u001b[0m x_test \u001b[38;5;241m=\u001b[39m data_nan[[\u001b[38;5;124m'\u001b[39m\u001b[38;5;124mest_salary\u001b[39m\u001b[38;5;124m'\u001b[39m, \u001b[38;5;124m'\u001b[39m\u001b[38;5;124mscore\u001b[39m\u001b[38;5;124m'\u001b[39m]]\n",
      "\u001b[1;31mNameError\u001b[0m: name 'LinearRegression' is not defined"
     ]
    }
   ],
   "source": [
    "# Предсказываем пропуски с помощью модели линейной регрессии\n",
    "x_train = data[['est_salary', 'score']]\n",
    "y_train = data['balance']\n",
    "lr = LinearRegression()\n",
    "lr.fit(x_train, y_train)\n",
    "\n",
    "x_test = data_nan[['est_salary', 'score']]\n",
    "y_pred = lr.predict(x_test)\n",
    "\n",
    "data_nan['pred'] = y_pred\n",
    "data_pred = data_nan.drop(columns=['balance']).rename(columns={'pred':'balance'}).copy()\n",
    "data_pred.loc[data_pred['balance'] < 0,'balance'] = 0\n",
    "\n",
    "data = pd.concat([data, data_pred])"
   ]
  },
  {
   "cell_type": "markdown",
   "id": "1cad747b",
   "metadata": {},
   "source": [
    "**Выводы:**\n",
    "- В данных есть 2294 пропущенных значения в столбце `balance`\n",
    "- Из матрицы ФиКа корреляции видно, что наивысшая корреляция между `balance` и `est_salary`, однако достоверно восстановить значения в столбце не представляется возможным\n",
    "- Были принято решение заполнить пропущенные значения с помощью модели линейной регрессии: пропущенные данные в столбце `balance` были предсказаны данными в столбцах `score` и `est_salary`, имеющими самую сильную связь со столбцом `balance`\n",
    "- Все отрицательные значения, получившиеся в результате заполнения пропусков были заменены на 0"
   ]
  },
  {
   "cell_type": "markdown",
   "id": "b5f0b216",
   "metadata": {},
   "source": [
    "## <center>Исследовательский анализ данных</center>"
   ]
  },
  {
   "cell_type": "markdown",
   "id": "2f251ae8",
   "metadata": {},
   "source": [
    "### Анализ оттока"
   ]
  },
  {
   "cell_type": "code",
   "execution_count": null,
   "id": "732716db",
   "metadata": {},
   "outputs": [],
   "source": [
    "# Построение круговой диаграммы распределения клиентов по оттоку\n",
    "plt.figure(figsize=(8,8))\n",
    "\n",
    "\n",
    "data_raw.churn.map({1:'Ушли из банка',0:'Не ушли из банка'}).value_counts()\\\n",
    "        .plot.pie(legend=False, \\\n",
    "                   autopct='%1.1f%%', explode=(0, 0.1), \\\n",
    "                   shadow=True, startangle=0, textprops={'fontsize':12})\n",
    "\n",
    "plt.title('Распределение клиентов по оттоку', fontsize=14)\n",
    "plt.ylabel('')\n",
    "plt.show()"
   ]
  },
  {
   "cell_type": "markdown",
   "id": "eb7757e4",
   "metadata": {},
   "source": [
    "**Выводы:**\n",
    "- 18% всех клиентов ушли из банка"
   ]
  },
  {
   "cell_type": "markdown",
   "id": "e7eca4f1",
   "metadata": {},
   "source": [
    "### Анализ кредитного скорринга"
   ]
  },
  {
   "cell_type": "code",
   "execution_count": null,
   "id": "c442e519",
   "metadata": {
    "scrolled": false
   },
   "outputs": [],
   "source": [
    "# Построение гистограммы и диаграммы размаха распределения клиентов по скоррингу\n",
    "plt.figure(figsize=(15,7))\n",
    "\n",
    "plt.subplot2grid((1,2),(0,0))\n",
    "sns.histplot(x='score', data=data, bins=35, stat='density', label='Наблюдения')\n",
    "plt.title('Гистограмма кредитного скорринга', fontsize=14)\n",
    "plt.xlabel('Скорринг', fontsize=12)\n",
    "plt.ylabel('Количество', fontsize=12)\n",
    "\n",
    "\n",
    "plt.subplot2grid((1,2),(0,1))\n",
    "sns.boxplot(y='score', data=data)\n",
    "plt.title('Диаграмма размаха кредитного скорринга', fontsize=14)\n",
    "plt.ylabel('Скорринг', fontsize=12)\n",
    "\n",
    "plt.show()\n",
    "\n",
    "# Вывод на экран описательных статистик\n",
    "display(data['score'].describe())"
   ]
  },
  {
   "cell_type": "markdown",
   "id": "a3f1a346",
   "metadata": {},
   "source": [
    "**Выводы:**\n",
    "- Минимальный кредитный скорринг - 642\n",
    "- Максимальный кредитный скорринг - 1000"
   ]
  },
  {
   "cell_type": "markdown",
   "id": "c1ca7177",
   "metadata": {},
   "source": [
    "### Анализ возраста"
   ]
  },
  {
   "cell_type": "code",
   "execution_count": null,
   "id": "868300b9",
   "metadata": {
    "scrolled": true
   },
   "outputs": [],
   "source": [
    "# Построение гистограммы и диаграммы размаха распределения клиентов по возрасту\n",
    "plt.figure(figsize=(15,7))\n",
    "\n",
    "plt.subplot2grid((1,2),(0,0))\n",
    "sns.histplot(x='age', data=data, bins=35, stat='density')\n",
    "plt.title('Гистограмма возраста', fontsize=14)\n",
    "plt.xlabel('Возраст', fontsize=12)\n",
    "plt.ylabel('Количество', fontsize=12)\n",
    "\n",
    "plt.subplot2grid((1,2),(0,1))\n",
    "sns.boxplot(y='age', data=data)\n",
    "plt.title('Диаграмма размаха возраста', fontsize=14)\n",
    "plt.ylabel('Возраст', fontsize=12)\n",
    "\n",
    "plt.show()\n",
    "\n",
    "display(data['age'].describe())"
   ]
  },
  {
   "cell_type": "markdown",
   "id": "8629b794",
   "metadata": {},
   "source": [
    "**Выводы:**\n",
    "- Минимальный возраст - 18\n",
    "- Максимальный возраст - 86\n",
    "- Распределение смещено влево - больше всего клиентов от 30 до 40 лет"
   ]
  },
  {
   "cell_type": "markdown",
   "id": "76a9a675",
   "metadata": {},
   "source": [
    "### Анализ оценок собственности клиентов"
   ]
  },
  {
   "cell_type": "code",
   "execution_count": null,
   "id": "70e6d5a3",
   "metadata": {
    "scrolled": true
   },
   "outputs": [],
   "source": [
    "# Построение гистограммы и диаграммы размаха распределения клиентов по оценкам сосбтвенности\n",
    "plt.figure(figsize=(15,7))\n",
    "\n",
    "plt.subplot2grid((1,2),(0,0))\n",
    "sns.histplot(x='equity', data=data, bins=10, stat='density')\n",
    "plt.title('Гистограмма оценок собственности клиентов', fontsize=14)\n",
    "plt.xlabel('Оценка собственности клиентов', fontsize=12)\n",
    "plt.ylabel('Количество', fontsize=12)\n",
    "\n",
    "plt.subplot2grid((1,2),(0,1))\n",
    "sns.boxplot(y='equity', data=data)\n",
    "plt.title('Диаграмма размаха оценок собственности клиентов', fontsize=14)\n",
    "plt.ylabel('Оценка собственности клиентов', fontsize=12)\n",
    "\n",
    "plt.show()\n",
    "\n",
    "display(data['equity'].describe())"
   ]
  },
  {
   "cell_type": "markdown",
   "id": "aa9e8555",
   "metadata": {},
   "source": [
    "**Выводы:**\n",
    "- Минимальная оценка - 0\n",
    "- Максимальная оценка - 9\n",
    "- Больше всего клиентов с оценкой 0\n",
    "- Меньше всего клиентов с оценкой 8-9"
   ]
  },
  {
   "cell_type": "markdown",
   "id": "46f6c323",
   "metadata": {},
   "source": [
    "### Анализ баланса"
   ]
  },
  {
   "cell_type": "code",
   "execution_count": null,
   "id": "ca961539",
   "metadata": {
    "scrolled": false
   },
   "outputs": [],
   "source": [
    "# Построение гистограммы и диаграммы размаха распределения клиентов по балансу\n",
    "plt.figure(figsize=(15,7))\n",
    "\n",
    "plt.subplot2grid((1,2),(0,0))\n",
    "sns.histplot(x='balance', data=data, stat='density', edgecolor='black', linewidth=1.2)\n",
    "plt.title('Гистограмма баланса', fontsize=14)\n",
    "plt.xlabel('Баланс', fontsize=12)\n",
    "plt.ylabel('Частота', fontsize=12)\n",
    "plt.xlim(-100000,3500000)\n",
    "\n",
    "plt.subplot2grid((1,2),(0,1))\n",
    "sns.boxplot(y='balance', data=data)\n",
    "plt.title('Диаграмма размаха баланса', fontsize=14)\n",
    "plt.ylabel('Баланс', fontsize=12)\n",
    "plt.ylim(-100000,3000000)\n",
    "\n",
    "plt.show()\n",
    "\n",
    "display(data['balance'].describe())"
   ]
  },
  {
   "cell_type": "markdown",
   "id": "a786c24d",
   "metadata": {},
   "source": [
    "**Выводы:**\n",
    "- Баланс лежит в диапозоне от 0 до 119 113 552 рублей\n",
    "- Больше всего клиентов с балансом от 250 000 до 500 000 рублей, а так же клиентов без денег на балансе"
   ]
  },
  {
   "cell_type": "markdown",
   "id": "d65de77b",
   "metadata": {},
   "source": [
    "### Анализ используемых продуктов"
   ]
  },
  {
   "cell_type": "code",
   "execution_count": null,
   "id": "e6110de9",
   "metadata": {
    "scrolled": false
   },
   "outputs": [],
   "source": [
    "# Построение круговой диаграммы распределения клиентов по количеству продуктов\n",
    "_ = data.pivot_table(index='products', values='user_id', aggfunc='count').reset_index().sort_values(by='user_id')\n",
    "\n",
    "plt.figure(figsize=(8,8))\n",
    "\n",
    "plt.pie(x=_['user_id'], \n",
    "        labels=_['products'],\n",
    "        autopct='%.0f%%',\n",
    "        explode=(0.3, 0.22, 0.05, 0.05, 0.05, 0.05),\n",
    "        shadow=False,\n",
    "        startangle=0,\n",
    "        textprops={'fontsize': 12})\n",
    "plt.title('Распределение клиентов по количеству используемых продуктов', fontsize=14)\n",
    "\n",
    "display(data['products'].describe())"
   ]
  },
  {
   "cell_type": "markdown",
   "id": "4df0b9bc",
   "metadata": {},
   "source": [
    "**Выводы:**\n",
    "- Больше всего клиентов пользуются двумя продуктами (51%)\n",
    "- Меньше всего клиентов пользуются пятью продуктами и без продуктов (<1%)"
   ]
  },
  {
   "cell_type": "markdown",
   "id": "c0a123d5",
   "metadata": {},
   "source": [
    "### Анализ наличия кредитных карт"
   ]
  },
  {
   "cell_type": "code",
   "execution_count": null,
   "id": "fbfe8d02",
   "metadata": {
    "scrolled": false
   },
   "outputs": [],
   "source": [
    "# Построение круговой диаграммы распределения клиентов по наличию кредитной карты\n",
    "plt.figure(figsize=(8,8))\n",
    "\n",
    "plt.pie(data.pivot_table(index='credit_card', values='user_id', aggfunc='nunique')['user_id'],\n",
    "        labels=['Нет кредитной карты', 'Есть кредитная карта'],\n",
    "        explode=(0,0.1),\n",
    "        shadow=True,\n",
    "        autopct='%.0f%%',\n",
    "        textprops={'fontsize': 12})\n",
    "\n",
    "plt.title('Распределение клиентов по наличию кредитных карт', fontsize=14)\n",
    "\n",
    "plt.show()"
   ]
  },
  {
   "cell_type": "markdown",
   "id": "e89da815",
   "metadata": {},
   "source": [
    "**Выводы:**\n",
    "- У 68% клиентов есть кредитная карта"
   ]
  },
  {
   "cell_type": "markdown",
   "id": "9064d40e",
   "metadata": {},
   "source": [
    "### Анализ проявления активности в последнее время"
   ]
  },
  {
   "cell_type": "code",
   "execution_count": null,
   "id": "87534867",
   "metadata": {
    "scrolled": false
   },
   "outputs": [],
   "source": [
    "# Построение круговой диаграммы распределения клиентов по проявлению активности в последнее время\n",
    "plt.figure(figsize=(8,8))\n",
    "\n",
    "plt.pie(data.pivot_table(index='last_activity', values='user_id', aggfunc='nunique')['user_id'],\n",
    "        labels=['Проявляли активность в последнее время', 'Не проявляли активность в последнее время'],\n",
    "        explode=(0,0.1),\n",
    "        shadow=True,\n",
    "        autopct='%.0f%%',\n",
    "        textprops={'fontsize': 12})\n",
    "\n",
    "plt.title('Распределение клиентов по проявлению активности в последнее время', fontsize=14)\n",
    "\n",
    "plt.show()"
   ]
  },
  {
   "cell_type": "markdown",
   "id": "f4aebdf7",
   "metadata": {},
   "source": [
    "**Выводы:**\n",
    "- 52% клиентов проявляли активность в последнее время"
   ]
  },
  {
   "cell_type": "markdown",
   "id": "74444d9e",
   "metadata": {},
   "source": [
    "### Анализ зарплаты"
   ]
  },
  {
   "cell_type": "code",
   "execution_count": null,
   "id": "797183ca",
   "metadata": {
    "scrolled": false
   },
   "outputs": [],
   "source": [
    "# Построение гистограммы и диаграммы размаха распределения клиентов по зарплате\n",
    "plt.figure(figsize=(15,7))\n",
    "\n",
    "plt.subplot2grid((1,2),(0,0))\n",
    "sns.histplot(x='est_salary', data=data, bins=100, stat='density')\n",
    "plt.title('Гистограмма зарплат клиентов', fontsize=14)\n",
    "plt.xlabel('Зарплата', fontsize=12)\n",
    "plt.ylabel('Количество', fontsize=12)\n",
    "\n",
    "plt.subplot2grid((1,2),(0,1))\n",
    "sns.boxplot(y='est_salary', data=data)\n",
    "plt.title('Диаграмма размаха зарплат клиентов', fontsize=14)\n",
    "plt.ylabel('Зарплата', fontsize=12)\n",
    "plt.ylim(-1000,350000)\n",
    "\n",
    "plt.show()\n",
    "\n",
    "display(data['est_salary'].describe())"
   ]
  },
  {
   "cell_type": "markdown",
   "id": "678729be",
   "metadata": {},
   "source": [
    "**Выводы:**\n",
    "- Минимальная зарплата - 2 546 рублей\n",
    "- Максимальная зарплата - 1 395 064 рублей\n",
    "- Hаспределение смещено влево - больше всего клиентов с зарплатой от 50 000 до 100 000 рублей"
   ]
  },
  {
   "cell_type": "markdown",
   "id": "907777a8",
   "metadata": {},
   "source": [
    "### Анализ городов"
   ]
  },
  {
   "cell_type": "code",
   "execution_count": null,
   "id": "5f1b669f",
   "metadata": {
    "scrolled": false
   },
   "outputs": [],
   "source": [
    "# Построение круговой диаграммы распределения клиентов по городу открытия счёта\n",
    "plt.figure(figsize=(8,8))\n",
    "\n",
    "plt.pie(data.pivot_table(index='city', values='user_id', aggfunc='nunique')['user_id'],\n",
    "        labels=['Ростов', 'Рыбинск', 'Ярославль'],\n",
    "        explode=(0.1,0.1,0),\n",
    "        shadow=True,\n",
    "        autopct='%.0f%%',\n",
    "        textprops={'fontsize': 12})\n",
    "\n",
    "plt.title('Распределение клиентов по городам', fontsize=14)\n",
    "\n",
    "plt.show()"
   ]
  },
  {
   "cell_type": "markdown",
   "id": "2ac3479c",
   "metadata": {},
   "source": [
    "**Выводы:**\n",
    "- Больше всего клиентов открыли счета в Ярославле (59%)\n",
    "- Меньше всего клиентов открыли счета в Великом Ростове (14%)"
   ]
  },
  {
   "cell_type": "markdown",
   "id": "bcdccafd",
   "metadata": {},
   "source": [
    "### Анализ полов"
   ]
  },
  {
   "cell_type": "code",
   "execution_count": null,
   "id": "fa97a5e5",
   "metadata": {
    "scrolled": true
   },
   "outputs": [],
   "source": [
    "# Построение круговой диаграммы распределения клиентов по полу\n",
    "plt.figure(figsize=(8,8))\n",
    "\n",
    "plt.pie(data.pivot_table(index='male', values='user_id', aggfunc='nunique')['user_id'],\n",
    "        labels=['Женщины', 'Мужчины'],\n",
    "        autopct='%.0f%%',\n",
    "        explode=(0,0.1),\n",
    "        shadow=True,\n",
    "        textprops={'fontsize': 12})\n",
    "\n",
    "plt.title('Распределение клиентов по полу', fontsize=14)\n",
    "\n",
    "plt.show()"
   ]
  },
  {
   "cell_type": "markdown",
   "id": "7b12f138",
   "metadata": {},
   "source": [
    "**Выводы:**\n",
    "- Количество мужчин и женщин среди клиентов одинаково"
   ]
  },
  {
   "cell_type": "markdown",
   "id": "20c0f89a",
   "metadata": {},
   "source": [
    "### Анализ аномалий"
   ]
  },
  {
   "cell_type": "code",
   "execution_count": null,
   "id": "c2ab85bc",
   "metadata": {
    "scrolled": true
   },
   "outputs": [],
   "source": [
    "# Определяем дубликаты идентификаторов пользвоателей и назначаем им новые уникальные идентификаторы\n",
    "data_user_dpl = data[data['user_id'].duplicated() == True].copy()\n",
    "data_user_dpl['user_id'] = data['user_id'].max()\n",
    "data_user_dpl.loc[:,'user_id'] += list(range(1,len(data_user_dpl)+1))\n",
    "\n",
    "data = data.drop(data[data['user_id'].duplicated() == True].index)\n",
    "\n",
    "data = pd.concat([data, data_user_dpl])"
   ]
  },
  {
   "cell_type": "code",
   "execution_count": null,
   "id": "99af42fd",
   "metadata": {},
   "outputs": [],
   "source": [
    "# Заменяем аномалии в количестве используемых продуктов\n",
    "data.loc[data['products'] == 0, 'products'] = 1"
   ]
  },
  {
   "cell_type": "markdown",
   "id": "b6f2e383",
   "metadata": {},
   "source": [
    "**Выводы:**\n",
    "- В данных 144 дублируемых идентификаторов пользователей\n",
    "- Поскольку остальные характеристики по этим записям не дублируются было принято решение присвоить этим записям новые уникальные идентификаторы пользователей\n",
    "- В данных также был обнаружен клиент, который пользуется 0 продуктов, это значение было заменено на единицу"
   ]
  },
  {
   "cell_type": "markdown",
   "id": "0013b33c",
   "metadata": {},
   "source": [
    "## <center>Исследование данных в разрезе оттока</center>"
   ]
  },
  {
   "cell_type": "code",
   "execution_count": null,
   "id": "98bd64c4",
   "metadata": {},
   "outputs": [],
   "source": [
    "# Делим данные на отточных и неотточных клиентов\n",
    "data_churn = data.query('churn == 1')\n",
    "data_stay = data.query('churn == 0')"
   ]
  },
  {
   "cell_type": "markdown",
   "id": "93d15023",
   "metadata": {},
   "source": [
    "### Кредитный скорринг клиентов в разрезе оттока"
   ]
  },
  {
   "cell_type": "code",
   "execution_count": null,
   "id": "7693bde3",
   "metadata": {
    "scrolled": false
   },
   "outputs": [],
   "source": [
    "# Построение диаграммы размаха распределения отточных и неотточных клиентов по зарплате\n",
    "plt.figure(figsize=(10,9))\n",
    "\n",
    "sns.boxplot(y='score', x='churn',data=data)\n",
    "plt.title('Диаграмма размаха скорринга для отточных и неотточных клиентов', fontsize=14)\n",
    "plt.ylabel('Скорринг', fontsize=12)\n",
    "plt.xlabel('Отток', fontsize=12)\n",
    "plt.show()\n",
    "\n",
    "print('Средний скорринг для неотточных: {}, Средний скорринг для отточных: {}'.format(data_stay['score'].mean(), data_churn['score'].mean()))"
   ]
  },
  {
   "cell_type": "code",
   "execution_count": null,
   "id": "a5b2688b",
   "metadata": {
    "scrolled": true
   },
   "outputs": [],
   "source": [
    "# Построение kde-графика \n",
    "plt.figure(figsize=(10,5))\n",
    "\n",
    "x1 = 820\n",
    "x2 = 940\n",
    "\n",
    "ax = sns.kdeplot(data=data, x='score', hue='churn', common_norm=False)\n",
    "ax.add_patch(mpl\n",
    "             .patches\n",
    "             .Rectangle((x1, 0.0025), x2-x1, 0.0055, linewidth=1, edgecolor='k', ls=\":\", facecolor='pink', alpha=.5))\n",
    "\n",
    "plt.title('Распределение скорринга в разрезе оттока', fontsize=14)\n",
    "plt.xlabel('Скорринг', fontsize=12)\n",
    "plt.ylabel('Плотность', fontsize=12)\n",
    "plt.xticks(np.arange(600, 1040, step=40))\n",
    "plt.legend(['Ушли', 'Не ушли'])\n",
    "plt.show()\n",
    "\n",
    "print(f'Процент ушедших клиентов со скоррингом в диапазоне [{x1},{x2}] достигает \\\n",
    "{round(data[(data.score >= x1) & (data.score <= x2)].churn.mean()*100)}%')\n",
    "print()\n",
    "print(f'Процент ушедших клиентов со скоррингом НЕ в диапазоне [{x1},{x2}] достигает \\\n",
    "{round(data[~((data.score >= x1) & (data.score <= x2))].churn.mean()*100)}%')"
   ]
  },
  {
   "cell_type": "code",
   "execution_count": null,
   "id": "1a97c308",
   "metadata": {},
   "outputs": [],
   "source": [
    "# Добавляем столбец с разделением клиентов по вышеупомянутым категориям\n",
    "def score_cat (df):\n",
    "    if (df >= 820) & (df <= 940):\n",
    "        return 1\n",
    "    else:\n",
    "        return 0\n",
    "\n",
    "data['score_ch_cat'] = data['score'].apply(score_cat)\n",
    "\n",
    "# Смотрим на долю клиентов со скоррингом в отточном интервале\n",
    "print(f'Всего {round(data.score_ch_cat.mean()*100)}% клиентов имеют скорринг из \"отточного\" интервала')\n",
    "\n",
    "# Смотрим какой процент оттока обеспечило нахождение клиентов в отточном интервале скорринга\n",
    "print('Наличие скорринга в \"отточном\" интервале обеспечивает',\n",
    "      f'{round((data.score_ch_cat.mean() * data[data.score_ch_cat == 1].churn.mean()) / data.churn.mean() *100)}',\n",
    "      '% ушедших клиентов')"
   ]
  },
  {
   "cell_type": "markdown",
   "id": "0815f616",
   "metadata": {},
   "source": [
    "**Выводы:**\n",
    "- Из диаграммы размаха видно, что средний скорринг у ушедших выше, как и миниальный скорринг\n",
    "- Наибольшее различие в проценте ушедших наблюдается у клиентов со скоррингом в интервале от 820 до 920 (23%)\n",
    "- У клиентов со скоррингом в остальном диапазоне процент ушедших составляет 13%\n",
    "- Были определены две категории клиентов разделенных по попаданию их скорринга в отточный интервал [820, 920]\n",
    "- Всего 60% клиентов имеют скорринг из \"отточного\" интервала\n",
    "- Наличие скорринга в \"отточном\" интервале обеспечивает 76 % ушедших клиентов"
   ]
  },
  {
   "cell_type": "markdown",
   "id": "dd2d2617",
   "metadata": {},
   "source": [
    "### Возраст клиентов в разрезе оттока"
   ]
  },
  {
   "cell_type": "code",
   "execution_count": null,
   "id": "cc5a1c82",
   "metadata": {
    "scrolled": true
   },
   "outputs": [],
   "source": [
    "# Построение диаграммы размаха распределения отточных и неотточных клиентов по возрасту\n",
    "plt.figure(figsize=(10,9))\n",
    "\n",
    "sns.boxplot(y='age', x='churn',data=data)\n",
    "plt.title('Диаграмма размаха возраста для отточных и неотточных клиентов', fontsize=14)\n",
    "plt.ylabel('Возраст', fontsize=12)\n",
    "plt.xlabel('Отток', fontsize=12)\n",
    "plt.show()\n",
    "\n",
    "print('Средний возраст для неотточных: {}, Средний возраст для отточных: {}'.format(data_stay['age'].mean(), data_churn['age'].mean()))"
   ]
  },
  {
   "cell_type": "code",
   "execution_count": null,
   "id": "56f0cc18",
   "metadata": {
    "scrolled": true
   },
   "outputs": [],
   "source": [
    "# Построение kde-графика \n",
    "plt.figure(figsize=(10,5))\n",
    "\n",
    "x1 = 20\n",
    "x2 = 36\n",
    "x3 = 49\n",
    "x4 = 61\n",
    "\n",
    "ax = sns.kdeplot(data=data, x='age', hue='churn', common_norm=False)\n",
    "\n",
    "ax.add_patch(mpl\n",
    "             .patches\n",
    "             .Rectangle((x1, 0.002), x2-x1, 0.039, linewidth=1, edgecolor='k', ls=\":\", facecolor='pink', alpha=.5))\n",
    "ax.add_patch(mpl\n",
    "             .patches\n",
    "             .Rectangle((x3, 0.013), x4-x3, 0.012, linewidth=1, edgecolor='k', ls=\":\", facecolor='pink', alpha=.5))\n",
    "\n",
    "\n",
    "plt.title('Распределение возраста в разрезе оттока', fontsize=14)\n",
    "plt.xlabel('Возраст', fontsize=12)\n",
    "plt.ylabel('Плотность', fontsize=12)\n",
    "plt.xticks(np.arange(10,95, step=5))\n",
    "plt.legend(['Ушли', 'Не ушли'])\n",
    "plt.show()\n",
    "\n",
    "print(f'Процент ушедших клиентов с возрастом в диапазоне [{x1},{x2}] достигает \\\n",
    "{round(data[((data.age >= x1) & (data.age <= x2))].churn.mean()*100)}%')\n",
    "print()\n",
    "print(f'Процент ушедших клиентов с возрастом в диапазоне [{x3},{x4}] достигает \\\n",
    "{round(data[((data.age >= x3) & (data.age <= x4))].churn.mean()*100)}%')\n",
    "print()\n",
    "print(f'Процент ушедших клиентов с возрастом НЕ в диапазонах [{x1},{x2}] и [{x3},{x4}] достигает \\\n",
    "{round(data[~(((data.age >= x1) & (data.age <= x2)) | ((data.age >= x3) & (data.age <= x4)))].churn.mean()*100)}%')"
   ]
  },
  {
   "cell_type": "code",
   "execution_count": null,
   "id": "5286f0f0",
   "metadata": {},
   "outputs": [],
   "source": [
    "# Добавляем столбец с разделением клиентов по вышеупомянутым категориям\n",
    "def age_cat (df):\n",
    "    if ((df >= x1) & (df <= x2)) | ((df >= x3) & (df <= x4)):\n",
    "        return 1\n",
    "    else:\n",
    "        return 0\n",
    "\n",
    "data['age_ch_cat'] = data['age'].apply(age_cat)\n",
    "\n",
    "# Смотрим на долю клиентов со возрастом в отточном интервале\n",
    "print(f'Всего {round(data.age_ch_cat.mean()*100)}% клиентов имеют возраст из \"отточного\" интервала')\n",
    "\n",
    "# Смотрим какой процент оттока обеспечило нахождение клиентов в отточном интервале возраста\n",
    "print('Наличие возраста в \"отточном\" интервале обеспечивает',\n",
    "      f'{round((data.age_ch_cat.mean() * data[data.age_ch_cat == 1].churn.mean()) / data.churn.mean() *100)}',\n",
    "      '% ушедших клиентов')"
   ]
  },
  {
   "cell_type": "markdown",
   "id": "17a390bc",
   "metadata": {},
   "source": [
    "**Выводы:**\n",
    "- Из диаграммы размаха видно, что в целом, возраст отточных и неотточных клиентов отличается незначительно\n",
    "- Однако из графика плотности распределений видно, что процент ушедших сильно выше среди клиентов с возрастом от 20 до 36 (21%) и от 49 до 61 (25%)\n",
    "- Среди клиентов с другими возрастами процент ушедших составляет 13%\n",
    "- Были определены две категории клиентов разделенных по попаданию их возраста в отточный интервал [20, 36] и [49, 61]\n",
    "- Всего 58% клиентов имеют возраст из \"отточных\" интервалов\n",
    "- Наличие возраста в \"отточном\" интервале обеспечивает 70 % ушедших клиентов"
   ]
  },
  {
   "cell_type": "markdown",
   "id": "fd8ab1fd",
   "metadata": {},
   "source": [
    "### Оценка имущества клиентов в разрезе оттока"
   ]
  },
  {
   "cell_type": "code",
   "execution_count": null,
   "id": "009237af",
   "metadata": {
    "scrolled": false
   },
   "outputs": [],
   "source": [
    "# Построение диаграммы размаха распределения отточных и неотточных клиентов по оценке имущества\n",
    "plt.figure(figsize=(10,9))\n",
    "\n",
    "sns.boxplot(y='equity', x='churn',data=data)\n",
    "plt.title('Диаграмма размаха оценок имущества для отточных и неотточных клиентов', fontsize=14)\n",
    "plt.ylabel('Оценка имущества', fontsize=12)\n",
    "plt.xlabel('Отток', fontsize=12)\n",
    "plt.show()\n",
    "\n",
    "print('Средняя оценка имущества для неотточных: {}, Средняя оценка имущества для отточных: {}'.format(data_stay['equity'].mean(), data_churn['equity'].mean()))"
   ]
  },
  {
   "cell_type": "code",
   "execution_count": null,
   "id": "bd61621d",
   "metadata": {
    "scrolled": true
   },
   "outputs": [],
   "source": [
    "# Построение гистграммы\n",
    "plt.figure(figsize=(10,5))\n",
    "\n",
    "ax = sns.histplot(data=data, x='equity', hue='churn',stat='density', common_norm=False, bins=9)\n",
    "\n",
    "plt.title('Распределение оценок имущества в разрезе оттока', fontsize=14)\n",
    "plt.xlabel('Оценка имущества', fontsize=12)\n",
    "plt.ylabel('Плотность', fontsize=12)\n",
    "plt.legend(['Ушли', 'Не ушли'])\n",
    "plt.show()\n",
    "\n",
    "print(f'Процент ушедших клиентов с оценкой имущества от 3 достигает \\\n",
    "{round(data[(data.equity >= 3)].churn.mean()*100)}%')\n",
    "print()\n",
    "print(f'Процент ушедших клиентов с оценкой имущества до 3 достигает \\\n",
    "{round(data[(data.equity < 3)].churn.mean()*100)}%')"
   ]
  },
  {
   "cell_type": "code",
   "execution_count": null,
   "id": "3568d6b2",
   "metadata": {},
   "outputs": [],
   "source": [
    "# Добавляем столбец с разделением клиентов по вышеупомянутым категориям\n",
    "def equity_cat (df):\n",
    "    if df >= 3:\n",
    "        return 1\n",
    "    else:\n",
    "        return 0\n",
    "\n",
    "data['equity_ch_cat'] = data['equity'].apply(equity_cat)\n",
    "\n",
    "# Смотрим на долю клиентов со оценкой имущества в отточном интервале\n",
    "print(f'Всего {round(data.equity_ch_cat.mean()*100)}% клиентов имеют оценку имущества из \"отточного\" интервала')\n",
    "\n",
    "# Смотрим какой процент оттока обеспечило нахождение клиентов в отточном интервале оценок имущества\n",
    "print('Наличие оценки имущества в \"отточном\" интервале обеспечивает',\n",
    "      f'{round((data.equity_ch_cat.mean() * data[data.equity_ch_cat == 1].churn.mean()) / data.churn.mean() *100)}',\n",
    "      '% ушедших клиентов')"
   ]
  },
  {
   "cell_type": "markdown",
   "id": "76bcbf24",
   "metadata": {},
   "source": [
    "**Выводы:**\n",
    "- Из диаграммы размаха видно, что у ушедших клиентов в целом выше описательные статистики оценок имущества\n",
    "- Из гистограммы видно, что доля ушедших клиентов повышается со значения оценки имущества 3 и составляет 26%\n",
    "- Всего 56% клиентов имеют оценку имущества из \"отточного\" интервала\n",
    "- Наличие оценки имущества в \"отточном\" интервале обеспечивает 81 % ушедших клиентов"
   ]
  },
  {
   "cell_type": "markdown",
   "id": "1982d68f",
   "metadata": {},
   "source": [
    "### Баланс клиентов в разрезе оттока"
   ]
  },
  {
   "cell_type": "code",
   "execution_count": null,
   "id": "d094e5ca",
   "metadata": {},
   "outputs": [],
   "source": [
    "# Построение диаграммы размаха распределения отточных и неотточных клиентов по балансу\n",
    "plt.figure(figsize=(10,9))\n",
    "\n",
    "sns.boxplot(y='balance', x='churn',data=data)\n",
    "plt.title('Диаграмма размаха баланса для отточных и неотточных клиентов', fontsize=14)\n",
    "plt.ylabel('Баланс', fontsize=12)\n",
    "plt.xlabel('Отток', fontsize=12)\n",
    "plt.ylim(-100000,3000000)\n",
    "plt.show()\n",
    "\n",
    "print('Средний баланс для неотточных: {}, Средний баланс для отточных: {}'.format(data_stay['balance'].mean(), data_churn['balance'].mean()))"
   ]
  },
  {
   "cell_type": "code",
   "execution_count": null,
   "id": "887c095f",
   "metadata": {
    "scrolled": false
   },
   "outputs": [],
   "source": [
    "# Построение kde-графика \n",
    "plt.figure(figsize=(10,5))\n",
    "\n",
    "x1 = 950000\n",
    "x2 = 4370000\n",
    "\n",
    "ax = sns.kdeplot(data=data, x='balance', hue='churn', common_norm=False)\n",
    "\n",
    "ax.add_patch(mpl\n",
    "             .patches\n",
    "             .Rectangle((x1, 0.00000001), x2-x1, 0.00000045, linewidth=1, edgecolor='k', ls=\":\", facecolor='pink', alpha=.5))\n",
    "\n",
    "\n",
    "plt.title('Распределение баланса в разрезе оттока', fontsize=14)\n",
    "plt.xlabel('Баланс', fontsize=12)\n",
    "plt.ylabel('Плотность', fontsize=12)\n",
    "plt.xlim(0,8000000)\n",
    "plt.legend(['Ушли', 'Не ушли'])\n",
    "plt.show()\n",
    "\n",
    "print(f'Процент ушедших клиентов с балансом в диапазоне [{x1},{x2}] достигает \\\n",
    "{round(data[(data.balance >= x1) & (data.balance <= x2)].churn.mean()*100)}%')\n",
    "print()\n",
    "print(f'Процент ушедших клиентов с балансом от {x1} достигает \\\n",
    "{round(data[(data.balance >= x1)].churn.mean()*100)}%')\n",
    "print()\n",
    "print(f'Процент ушедших клиентов с балансом НЕ в диапазоне [{x1},{x2}] достигает \\\n",
    "{round(data[~((data.balance >= x1) & (data.balance <= x2))].churn.mean()*100)}%')\n",
    "print()\n",
    "print(f'Процент ушедших клиентов с балансом до {x1} достигает \\\n",
    "{round(data[~(data.balance >= x1)].churn.mean()*100)}%')"
   ]
  },
  {
   "cell_type": "code",
   "execution_count": null,
   "id": "21f49839",
   "metadata": {},
   "outputs": [],
   "source": [
    "# Добавляем столбец с разделением клиентов по вышеупомянутым категориям\n",
    "def balance_cat (df):\n",
    "    if (df >= 950000):\n",
    "        return 1\n",
    "    else:\n",
    "        return 0\n",
    "\n",
    "data['balance_ch_cat'] = data['balance'].apply(balance_cat)\n",
    "\n",
    "# Смотрим на долю клиентов со балансом в отточном интервале\n",
    "print(f'Всего {round(data.balance_ch_cat.mean()*100)}% клиентов имеют баланс из \"отточного\" интервала')\n",
    "\n",
    "# Смотрим какой процент оттока обеспечило нахождение клиентов в отточном интервале баланса\n",
    "print('Наличие баланса в \"отточном\" интервале обеспечивает',\n",
    "      f'{round((data.balance_ch_cat.mean() * data[data.balance_ch_cat == 1].churn.mean()) / data.churn.mean() *100)}',\n",
    "      '% ушедших клиентов')"
   ]
  },
  {
   "cell_type": "markdown",
   "id": "a903581c",
   "metadata": {},
   "source": [
    "**Выводы:**\n",
    "- Из диаграммы размаха видно, что в целом значения баланса выше у ушедших клиентов\n",
    "- Из кривых плостности распределения видно, что начиная с клиентов с балансом 950 тысяч процент ушедших повышается, и хотя на уровне 4,5 миллиона рублей, кривая плотности распределения ушедших клиентов опускается под кривую неушедших клиентов, общий процент ушедших сохраняется, примерно на прежнем уровне\n",
    "- Были определены две категории клиентов разделенных по попаданию их баланса в отточный интервал от 950 тысяч рублей\n",
    "- Всего 37% клиентов имеют баланс из \"отточного\" интервала\n",
    "- Наличие баланса в \"отточном\" интервале обеспечивает 42 % ушедших клиентов"
   ]
  },
  {
   "cell_type": "markdown",
   "id": "e03e6efd",
   "metadata": {},
   "source": [
    "### Количество продуктов используемых клиентами в разрезе оттока"
   ]
  },
  {
   "cell_type": "code",
   "execution_count": null,
   "id": "0b801dc2",
   "metadata": {
    "scrolled": true
   },
   "outputs": [],
   "source": [
    "# Построение круговой диаграммы распределения для отточных и неотточных клиентов по количеству продуктов\n",
    "products_churn = data_churn.pivot_table(index='products', values='user_id', aggfunc='count').reset_index()\n",
    "products_stay = data_stay.pivot_table(index='products', values='user_id', aggfunc='count').reset_index()\n",
    "\n",
    "_ = data.pivot_table(index='products', values='churn', aggfunc='mean').reset_index()\n",
    "\n",
    "products_churn = products_churn.merge(products_stay, on='products', how='left')\n",
    "products_churn = products_churn.merge(_, on='products', how='left')\n",
    "\n",
    "products_churn.rename(columns={'user_id_x':'churn_num', 'user_id_y':'stay_num'}, inplace=True)\n",
    "\n",
    "plt.figure(figsize=(10,10))\n",
    "\n",
    "plt.subplot2grid((2,2),(0,0))\n",
    "plt.pie(x=products_churn['stay_num'], \n",
    "        labels=products_churn['products'], \n",
    "        autopct='%.0f%%',\n",
    "        explode=(0.1,0.1,0.1,0.1,0.1),\n",
    "        shadow=True,\n",
    "        pctdistance = 0.9,\n",
    "        textprops={'fontsize': 12})\n",
    "plt.title('Неотточные клиенты', fontsize=14)\n",
    "\n",
    "plt.subplot2grid((2,2),(0,1))\n",
    "plt.pie(x=products_churn['churn_num'], \n",
    "        labels=products_churn['products'], \n",
    "        autopct='%.0f%%',\n",
    "        explode=(0.1,0.1,0.1,0.1,0.1),\n",
    "        shadow=True,\n",
    "        pctdistance = 0.9,\n",
    "        textprops={'fontsize': 12})\n",
    "plt.title('Отточные клиенты', fontsize=14)\n",
    "\n",
    "\n",
    "#Построение столбчатой диаграммы долей отточных клиентов с каждым количсетвом используемых продуктов\n",
    "plt.subplot2grid((2,2),(1,0), colspan=2)\n",
    "ax = sns.barplot(data=products_churn, x='products', y='churn')\n",
    "ax.bar_label(ax.containers[0])\n",
    "plt.xticks(fontsize=12)\n",
    "plt.title('Доля отточных клиентов по используемым продуктам', fontsize=14)\n",
    "plt.xlabel('Количество продуктов', fontsize=12)\n",
    "plt.ylabel('Доля', fontsize=12)\n",
    "\n",
    "plt.show()"
   ]
  },
  {
   "cell_type": "code",
   "execution_count": null,
   "id": "b0033e26",
   "metadata": {
    "scrolled": false
   },
   "outputs": [],
   "source": [
    "# Построение гистграммы\n",
    "plt.figure(figsize=(10,5))\n",
    "\n",
    "ax = sns.histplot(data=data, x='products', hue='churn',stat='density', common_norm=False, bins=5)\n",
    "\n",
    "plt.title('Распределение используемых продуктов в разрезе оттока', fontsize=14)\n",
    "plt.xlabel('Используемые продукты', fontsize=12)\n",
    "plt.ylabel('Плотность', fontsize=12)\n",
    "plt.xticks(np.arange(1,5, step=1))\n",
    "plt.legend(['Ушли', 'Не ушли'])\n",
    "plt.show()\n",
    "\n",
    "print(f'Процент ушедших клиентов с используемыми продуктами от 2 достигает \\\n",
    "{round(data[(data.products >= 2)].churn.mean()*100)}%')\n",
    "print()\n",
    "print(f'Процент ушедших клиентов с используемыми продуктами до 2 достигает \\\n",
    "{round(data[(data.products < 2)].churn.mean()*100)}%')"
   ]
  },
  {
   "cell_type": "code",
   "execution_count": null,
   "id": "95e1f562",
   "metadata": {
    "scrolled": true
   },
   "outputs": [],
   "source": [
    "# Добавляем столбец с разделением клиентов по вышеупомянутым категориям\n",
    "def products_cat (df):\n",
    "    if (df >= 2):\n",
    "        return 1\n",
    "    else:\n",
    "        return 0\n",
    "\n",
    "data['products_ch_cat'] = data['products'].apply(products_cat)\n",
    "\n",
    "# Смотрим на долю клиентов с используемыми продуктами в отточном интервале\n",
    "print(f'Всего {round(data.products_ch_cat.mean()*100)}% клиентов имеют кол-во используемыех продуктов из \"отточного\" интервала')\n",
    "\n",
    "# Смотрим какой процент оттока обеспечило нахождение клиентов в отточном интервале используемых продуктов\n",
    "print('Наличие кол-ва используемых продуктов в \"отточном\" интервале обеспечивает',\n",
    "      f'{round((data.products_ch_cat.mean() * data[data.products_ch_cat == 1].churn.mean()) / data.churn.mean() *100)}',\n",
    "      '% ушедших клиентов')"
   ]
  },
  {
   "cell_type": "markdown",
   "id": "8bcdf913",
   "metadata": {},
   "source": [
    "**Выводы:**\n",
    "- Больше всего отточных клиентов, пользующихся 4 продуктами (63%)\n",
    "- Из гистограммы видно, что процент ушедших повышается начиная с 2-х используемых продуктов и составляет 24%\n",
    "- Всего 67% клиентов имеют кол-во используемыех продуктов из \"отточного\" интервала\n",
    "- Наличие кол-ва используемых продуктов в \"отточном\" интервале обеспечивает 87 % ушедших клиентов"
   ]
  },
  {
   "cell_type": "markdown",
   "id": "028f0baa",
   "metadata": {},
   "source": [
    "### Наличие кредитной карты у клиентов в разрезе оттока"
   ]
  },
  {
   "cell_type": "code",
   "execution_count": null,
   "id": "cf18aa94",
   "metadata": {
    "scrolled": true
   },
   "outputs": [],
   "source": [
    "# Построение круговой диаграммы распределения для отточных и неотточных клиентов по наличию кредитной карты\n",
    "credit_churn = data_churn.pivot_table(index='credit_card', values='user_id', aggfunc='count')\n",
    "credit_stay = data_stay.pivot_table(index='credit_card', values='user_id', aggfunc='count')\n",
    "\n",
    "plt.figure(figsize=(10,10))\n",
    "\n",
    "plt.subplot2grid((2,2),(0,0))\n",
    "plt.pie(x=credit_stay['user_id'], \n",
    "        labels=['Нет кредитной карты', 'Есть кредитная карта'], \n",
    "        autopct='%.0f%%',\n",
    "        explode=(0,0.1),\n",
    "        shadow=True,\n",
    "        textprops={'fontsize': 12})\n",
    "plt.title('Неотточные клиенты', fontsize=14)\n",
    "\n",
    "plt.subplot2grid((2,2),(0,1))\n",
    "plt.pie(x=credit_churn['user_id'], \n",
    "        labels=['Нет кредитной карты', 'Есть кредитная карта'], \n",
    "        autopct='%.0f%%',\n",
    "        explode=(0,0.1),\n",
    "        shadow=True,\n",
    "        textprops={'fontsize': 12})\n",
    "plt.title('Отточные клиенты', fontsize=14)\n",
    "\n",
    "# Построение столбчатой диаграммы долей отточных клиентов по наличию кредитной карты\n",
    "_ = data.pivot_table(index='credit_card', values='churn', aggfunc='mean').reset_index()\n",
    "\n",
    "plt.subplot2grid((2,2),(1,0), colspan=2)\n",
    "ax = sns.barplot(data=_, x='credit_card', y='churn')\n",
    "ax.set_xticklabels(['Нет кредитной карты', 'Есть кредитная карта'])\n",
    "ax.bar_label(ax.containers[0])\n",
    "plt.xticks(fontsize=12)\n",
    "plt.title('Доля отточных клиентов по наличию кредитной карты', fontsize=14)\n",
    "plt.xlabel('Наличие кредитной карты', fontsize=12)\n",
    "plt.ylabel('Доля', fontsize=12)\n",
    "\n",
    "plt.show()"
   ]
  },
  {
   "cell_type": "code",
   "execution_count": null,
   "id": "dd35731c",
   "metadata": {},
   "outputs": [],
   "source": [
    "# Добавляем столбец с разделением клиентов по вышеупомянутым категориям\n",
    "def credit_cat (df):\n",
    "    if (df == 0):\n",
    "        return 1\n",
    "    else:\n",
    "        return 0\n",
    "\n",
    "data['credit_card_ch_cat'] = data['credit_card'].apply(credit_cat)"
   ]
  },
  {
   "cell_type": "markdown",
   "id": "55c90d04",
   "metadata": {},
   "source": [
    "**Выводы:**\n",
    "- Среди отточных клиентов у 45% нет кредитной карты, среди неотточных - 29%\n",
    "- Среди клиентов без кредитной карты ушедших на 9 процентных пунктов больше, чем среди клиентов с кредитной картой (26% против 15%)\n",
    "- Отсутствие кредитной карты обеспечивает 45 % ушедших клиентов"
   ]
  },
  {
   "cell_type": "markdown",
   "id": "f71f8f90",
   "metadata": {},
   "source": [
    "### Активность клиентов в последнее время в разрезе оттока"
   ]
  },
  {
   "cell_type": "code",
   "execution_count": null,
   "id": "900ec204",
   "metadata": {
    "scrolled": false
   },
   "outputs": [],
   "source": [
    "# Построение круговой диаграммы распределения для отточных и неотточных клиентов по проявлению активности в последнее время\n",
    "last_activity_churn = data_churn.pivot_table(index='last_activity', values='user_id', aggfunc='count')\n",
    "last_activity_stay = data_stay.pivot_table(index='last_activity', values='user_id', aggfunc='count')\n",
    "\n",
    "plt.figure(figsize=(10,10))\n",
    "\n",
    "plt.subplot2grid((2,2),(0,0))\n",
    "plt.pie(x=last_activity_stay['user_id'], \n",
    "        labels=['Не проявляли активность', 'Проявляли активность'], \n",
    "        autopct='%.0f%%',\n",
    "        explode=(0,0.1),\n",
    "        shadow=True,\n",
    "        textprops={'fontsize': 12})\n",
    "plt.title('Неотточные клиенты', fontsize=14)\n",
    "\n",
    "plt.subplot2grid((2,2),(0,1))\n",
    "plt.pie(x=last_activity_churn['user_id'], \n",
    "        labels=['Не проявляли активность', 'Проявляли активность'], \n",
    "        autopct='%.0f%%',\n",
    "        explode=(0,0.1),\n",
    "        shadow=True,\n",
    "        textprops={'fontsize': 12})\n",
    "plt.title('Отточные клиенты', fontsize=14)\n",
    "\n",
    "# Построение столбчатой диаграммы долей отточных клиентов по проявлению активности в последнее время\n",
    "_ = data.pivot_table(index='last_activity', values='churn', aggfunc='mean').reset_index()\n",
    "\n",
    "plt.subplot2grid((2,2),(1,0), colspan=2)\n",
    "ax = sns.barplot(data=_, x='last_activity', y='churn')\n",
    "ax.set_xticklabels(['Не проявляли активность', 'Проявляли активность'], fontsize=12)\n",
    "ax.bar_label(ax.containers[0])\n",
    "plt.xticks(fontsize=12)\n",
    "plt.title('Доля отточных клиентов по проявлению активности в последнее время', fontsize=14)\n",
    "plt.xlabel('Активность', fontsize=12)\n",
    "plt.ylabel('Доля', fontsize=12)\n",
    "\n",
    "plt.show()"
   ]
  },
  {
   "cell_type": "markdown",
   "id": "f9c95870",
   "metadata": {},
   "source": [
    "**Выводы:**\n",
    "- Среди отточных клиентов 70% проявляли активность, среди неотточных - 48%\n",
    "- Среди клиентов, проявлявших активность в последнее время ушедших на 13 процентных пунктов больше (24% против 11%), чем среди клиентов, не проявлявших активность в последнее время.\n",
    "- Наличие активности в последнее время обеспечивает 70 % ушедших клиентов"
   ]
  },
  {
   "cell_type": "markdown",
   "id": "e61ed1d8",
   "metadata": {},
   "source": [
    "### Города в разрезе оттока"
   ]
  },
  {
   "cell_type": "code",
   "execution_count": null,
   "id": "5e1e9e08",
   "metadata": {
    "scrolled": true
   },
   "outputs": [],
   "source": [
    "# Построение круговой диаграммы распределения для отточных и неотточных клиентов по городу\n",
    "city_churn = data_churn.pivot_table(index='city', values='user_id', aggfunc='count')\n",
    "city_stay = data_stay.pivot_table(index='city', values='user_id', aggfunc='count')\n",
    "\n",
    "plt.figure(figsize=(15,5))\n",
    "\n",
    "plt.subplot2grid((1,3),(0,0))\n",
    "plt.pie(x=city_stay['user_id'], \n",
    "        labels=['Ростов', 'Рыбинск', 'Ярославль'], \n",
    "        autopct='%.0f%%',\n",
    "        explode=(0,0.1, 0.1),\n",
    "        shadow=True,\n",
    "        textprops={'fontsize': 12})\n",
    "plt.title('Неотточные клиенты', fontsize=14)\n",
    "\n",
    "plt.subplot2grid((1,3),(0,1))\n",
    "plt.pie(x=city_churn['user_id'], \n",
    "        labels=['Ростов', 'Рыбинск', 'Ярославль'], \n",
    "        autopct='%.0f%%',\n",
    "        explode=(0,0.1, 0.1),\n",
    "        shadow=True,\n",
    "        textprops={'fontsize': 12})\n",
    "plt.title('Отточные клиенты', fontsize=14)\n",
    "\n",
    "# Построение столбчатой диаграммы долей отточных клиентов по городу\n",
    "_ = data.pivot_table(index='city', values='churn', aggfunc='mean').reset_index()\n",
    "\n",
    "plt.subplot2grid((1,3),(0,2))\n",
    "ax = sns.barplot(data=_, x='city', y='churn')\n",
    "ax.bar_label(ax.containers[0])\n",
    "plt.title('Доля ушедших клиентов от всех клиентов', fontsize=14)\n",
    "plt.xticks(fontsize=12)\n",
    "plt.xlabel('Город', fontsize=12)\n",
    "plt.ylabel('Доля', fontsize=12)\n",
    "\n",
    "plt.show()"
   ]
  },
  {
   "cell_type": "code",
   "execution_count": null,
   "id": "fc9a21ba",
   "metadata": {
    "scrolled": false
   },
   "outputs": [],
   "source": [
    "# Построение гистграммы\n",
    "plt.figure(figsize=(10,5))\n",
    "\n",
    "ax = sns.histplot(data=data, x='city', hue='churn',stat='density', common_norm=False, bins=5)\n",
    "\n",
    "plt.title('Распределение городов октрытия счёта в разрезе оттока', fontsize=14)\n",
    "plt.xlabel('Город', fontsize=12)\n",
    "plt.ylabel('Плотность', fontsize=12)\n",
    "plt.legend(['Ушли', 'Не ушли'])\n",
    "plt.show()\n",
    "\n",
    "y = 'Ярославль'\n",
    "r = 'Ростов'\n",
    "print(f'Процент ушедших клиентов открывших счёт в Ярославле или Ростове достигает \\\n",
    "{round(data[(data.city.isin([y, r]))].churn.mean()*100)}%')\n",
    "print()\n",
    "print(f'Процент ушедших клиентов открывших счёт НЕ в Ярославле или Ростове достигает \\\n",
    "{round(data[~(data.city.isin([y, r]))].churn.mean()*100)}%')"
   ]
  },
  {
   "cell_type": "code",
   "execution_count": null,
   "id": "8e8ed1be",
   "metadata": {},
   "outputs": [],
   "source": [
    "# Добавляем столбец с разделением клиентов по вышеупомянутым категориям\n",
    "def city_ch_cat (df):\n",
    "    if (df == 'Ярославль') or (df == 'Ростов'):\n",
    "        return 1\n",
    "    else:\n",
    "        return 0\n",
    "\n",
    "data['city_ch_cat'] = data['city'].apply(city_ch_cat)\n",
    "\n",
    "# Смотрим на долю клиентов из Ярославля или Ростова\n",
    "print(f'Всего {round((data.city_ch_cat.mean())*100)}% открыли счёт в Ярославле или Ростове')\n",
    "\n",
    "# Смотрим какой процент оттока обеспечило открытие счёта в Ростове или Ярославле\n",
    "print('Открытие счёта в Ярославле или Ростове обеспечило',\n",
    "      f'{round(((data.city_ch_cat.mean()) * data[data.city_ch_cat == 1].churn.mean()) / data.churn.mean() *100)}',\n",
    "      '% ушедших клиентов')"
   ]
  },
  {
   "cell_type": "markdown",
   "id": "3dc06081",
   "metadata": {},
   "source": [
    "**Выводы:**\n",
    "- Отточные и неотточные клиенты незначительно отличаются по городу открытия счёта\n",
    "- Однако, открытие счёта в Ярославле или Ростове обеспечило 76% ушедших  клиентов (73% открыли счёт в Ярославле или Ростове)\n",
    "- Среди клиентов, открывших счета в Ярославле ушедших 19%, в Ростове - 19%, в Рыбинске - 16%"
   ]
  },
  {
   "cell_type": "markdown",
   "id": "3bb7b27d",
   "metadata": {},
   "source": [
    "### Пол клиентов в разрезе оттока"
   ]
  },
  {
   "cell_type": "code",
   "execution_count": null,
   "id": "1bfda447",
   "metadata": {
    "scrolled": true
   },
   "outputs": [],
   "source": [
    "# Построение круговой диаграммы распределения для отточных и неотточных клиентов по полу\n",
    "male_churn = data_churn.pivot_table(index='male', values='user_id', aggfunc='count')\n",
    "male_stay = data_stay.pivot_table(index='male', values='user_id', aggfunc='count')\n",
    "\n",
    "plt.figure(figsize=(15,5))\n",
    "\n",
    "plt.subplot2grid((1,3),(0,0))\n",
    "plt.pie(x=male_stay['user_id'], \n",
    "        labels=['Женщины', 'Мужчины'], \n",
    "        autopct='%.0f%%',\n",
    "        explode=(0,0.1),\n",
    "        shadow=True,\n",
    "        textprops={'fontsize': 12})\n",
    "plt.title('Неотточные клиенты', fontsize=14)\n",
    "\n",
    "plt.subplot2grid((1,3),(0,1))\n",
    "plt.pie(x=male_churn['user_id'], \n",
    "        labels=['Женщины', 'Мужчины'], \n",
    "        autopct='%.0f%%',\n",
    "        explode=(0,0.1),\n",
    "        shadow=True,\n",
    "        textprops={'fontsize': 12})\n",
    "plt.title('Отточные клиенты', fontsize=14)\n",
    "\n",
    "# Построение столбчатой диаграммы долей отточных клиентов по полу\n",
    "_ = data.pivot_table(index='male', values='churn', aggfunc='mean').reset_index()\n",
    "\n",
    "plt.subplot2grid((1,3),(0,2))\n",
    "ax = sns.barplot(data=_, x='male', y='churn')\n",
    "ax.set_xticklabels(['Женщины', 'Мужчины'])\n",
    "ax.bar_label(ax.containers[0])\n",
    "plt.title('Доля ушедших клиентов от всех клиентов', fontsize=14)\n",
    "plt.xticks(fontsize=12)\n",
    "plt.xlabel('Пол', fontsize=12)\n",
    "plt.ylabel('Доля', fontsize=12)\n",
    "\n",
    "plt.show()"
   ]
  },
  {
   "cell_type": "markdown",
   "id": "40664abc",
   "metadata": {},
   "source": [
    "**Выводы:**\n",
    "- Среди отточных клиентов 65% мужчин, среди неотточных 47% мужчин\n",
    "- 24% мужчин ушли из банка, 13% женщин ушли из банка"
   ]
  },
  {
   "cell_type": "markdown",
   "id": "2a5f95ff",
   "metadata": {},
   "source": [
    "### Зарплата клиентов в разрезе оттока"
   ]
  },
  {
   "cell_type": "code",
   "execution_count": null,
   "id": "b1fc8b77",
   "metadata": {
    "scrolled": true
   },
   "outputs": [],
   "source": [
    "# Построение kde-графика \n",
    "plt.figure(figsize=(10,5))\n",
    "\n",
    "x1 = 95000\n",
    "x2 = 250000\n",
    "\n",
    "ax = sns.kdeplot(data=data, x='est_salary', hue='churn', common_norm=False)\n",
    "\n",
    "ax.add_patch(mpl\n",
    "             .patches\n",
    "             .Rectangle((x1, 0.000001), x2-x1, 0.0000046, linewidth=1, edgecolor='k', ls=\":\", facecolor='pink', alpha=.5))\n",
    "\n",
    "\n",
    "plt.title('Распределение зарплаты в разрезе оттока', fontsize=14)\n",
    "plt.xlabel('Зарплата', fontsize=12)\n",
    "plt.ylabel('Плотность', fontsize=12)\n",
    "plt.xlim(0,500000)\n",
    "plt.legend(['Ушли', 'Не ушли'])\n",
    "plt.show()\n",
    "\n",
    "print(f'Процент ушедших клиентов с балансом в диапазоне [{x1},{x2}] достигает \\\n",
    "{round(data[(data.est_salary >= x1) & (data.est_salary <= x2)].churn.mean()*100)}%')\n",
    "print()\n",
    "print(f'Процент ушедших клиентов с балансом от {x1} достигает \\\n",
    "{round(data[(data.est_salary >= x1)].churn.mean()*100)}%')\n",
    "print()\n",
    "print(f'Процент ушедших клиентов с балансом НЕ в диапазоне [{x1},{x2}] достигает \\\n",
    "{round(data[~((data.est_salary >= x1) & (data.est_salary <= x2))].churn.mean()*100)}%')\n",
    "print()\n",
    "print(f'Процент ушедших клиентов с балансом до {x1} достигает \\\n",
    "{round(data[~(data.est_salary >= x1)].churn.mean()*100)}%')"
   ]
  },
  {
   "cell_type": "code",
   "execution_count": null,
   "id": "05b5d646",
   "metadata": {},
   "outputs": [],
   "source": [
    "# Добавляем столбец с разделением клиентов по вышеупомянутым категориям\n",
    "def est_salary_cat (df):\n",
    "    if (df >= 95000):\n",
    "        return 1\n",
    "    else:\n",
    "        return 0\n",
    "\n",
    "data['est_salary_ch_cat'] = data['est_salary'].apply(est_salary_cat)\n",
    "\n",
    "# Смотрим на долю клиентов с зарплатой в отточном интервале\n",
    "print(f'Всего {round(data.est_salary_ch_cat.mean()*100)}% клиентов имеют зарплату из \"отточного\" интервала')\n",
    "\n",
    "# Смотрим какой процент оттока обеспечило нахождение клиентов в отточном интервале зарплаты\n",
    "print('Наличие зарплаты в \"отточном\" интервале обеспечивает',\n",
    "      f'{round((data.est_salary_ch_cat.mean() * data[data.est_salary_ch_cat == 1].churn.mean()) / data.churn.mean() *100)}',\n",
    "      '% ушедших клиентов')"
   ]
  },
  {
   "cell_type": "markdown",
   "id": "c00c0d9f",
   "metadata": {},
   "source": [
    "**Выводы:**\n",
    "- Из кривых плостности распределения видно, что начиная с клиентов с зарплатой 95 тысяч рублей процент ушедших повышается, и хотя на уровне 250 тысяч рублей, кривая плотности распределения ушедших клиентов касается кривой неушедших клиентов, общий процент ушедших сохраняется, примерно на прежнем уровне\n",
    "- Всего 64% клиентов имеют зарплату из \"отточного\" интервала\n",
    "- Наличие зарплаты в \"отточном\" интервале обеспечивает 68 % ушедших клиентов"
   ]
  },
  {
   "cell_type": "markdown",
   "id": "b080f115",
   "metadata": {},
   "source": [
    "### Совмещение отточных сегментов"
   ]
  },
  {
   "cell_type": "code",
   "execution_count": null,
   "id": "d7164695",
   "metadata": {},
   "outputs": [],
   "source": [
    "chars = ['products_ch_cat',\n",
    "        'equity_ch_cat',\n",
    "        'score_ch_cat',\n",
    "        'age_ch_cat',\n",
    "        'city_ch_cat',\n",
    "        'last_activity',\n",
    "        'balance_ch_cat',\n",
    "        'est_salary_ch_cat',\n",
    "        'credit_card_ch_cat',\n",
    "        'male']\n",
    "\n",
    "df = pd.DataFrame(columns=chars, index=chars)\n",
    "\n",
    "for cindex in df.columns:\n",
    "    for rindex in df.index:\n",
    "        df.loc[rindex,cindex] = (\n",
    "            (data[(data[rindex] == 1) & (data[cindex] == 1)].churn.mean())\n",
    "        )\n",
    "        \n",
    "\n",
    "# for index in df.columns:\n",
    "#     df.loc[index,index] = None\n",
    "        \n",
    "share_churn = df.astype('float')\n",
    "        \n",
    "plt.figure(figsize=(12,5))\n",
    "sns.heatmap(share_churn, annot=True, cmap='YlOrRd', linewidth=.5)\n",
    "plt.title('Доля ушедших из отточных сегментов', fontsize=14)\n",
    "plt.show()"
   ]
  },
  {
   "cell_type": "code",
   "execution_count": null,
   "id": "5a02dab0",
   "metadata": {},
   "outputs": [],
   "source": [
    "chars = ['products_ch_cat',\n",
    "        'equity_ch_cat',\n",
    "        'score_ch_cat',\n",
    "        'age_ch_cat',\n",
    "        'city_ch_cat',\n",
    "        'last_activity',\n",
    "        'balance_ch_cat',\n",
    "        'est_salary_ch_cat',\n",
    "        'credit_card_ch_cat',\n",
    "        'male']\n",
    "\n",
    "df = pd.DataFrame(columns=chars, index=chars)\n",
    "\n",
    "for cindex in df.columns:\n",
    "    for rindex in df.index:\n",
    "        df.loc[rindex,cindex] = (\n",
    "            (data[(data[rindex] == 1) & (data[cindex] == 1)].churn.mean())\n",
    "            * (len(data[(data[rindex] == 1) & (data[cindex] == 1)])/len(data))\n",
    "            / data.churn.mean()\n",
    "        )\n",
    "        \n",
    "\n",
    "# for index in df.columns:\n",
    "#     df.loc[index,index] = None\n",
    "        \n",
    "share_all_churn = df.astype('float')\n",
    "        \n",
    "plt.figure(figsize=(12,5))\n",
    "sns.heatmap(share_all_churn, annot=True, cmap='crest', linewidth=.5)\n",
    "plt.title('Доля от всех ушедших среди ушедших из отточных сегментов', fontsize=14)\n",
    "plt.show()"
   ]
  },
  {
   "cell_type": "code",
   "execution_count": null,
   "id": "5a01415c",
   "metadata": {
    "scrolled": true
   },
   "outputs": [],
   "source": [
    "indicator = share_all_churn*share_churn\n",
    "\n",
    "plt.figure(figsize=(12,5))\n",
    "sns.heatmap(indicator[indicator >= 0.2], annot=True, cmap='YlGn', linewidth=.5)\n",
    "plt.title('Индикатор', fontsize=14)\n",
    "plt.show()"
   ]
  },
  {
   "cell_type": "markdown",
   "id": "1fe46f70",
   "metadata": {},
   "source": [
    "**Выводы:**\n",
    "- Были созданы тепловые карты убыточных сегментов:\n",
    "    - Доля ушедших клиентов в каждом из сегментов (в том числе объединённых)\n",
    "    - Доля оъяснения всего количества ушедших каждым из сегментов (в том числе объединённых)\n",
    "    - Индиктор для определения наиболее влиятельных сегментов (доля ушедших * объяснение всех ушедших)"
   ]
  },
  {
   "cell_type": "markdown",
   "id": "80004def",
   "metadata": {},
   "source": [
    "## <center>Общие выводы</center>"
   ]
  },
  {
   "cell_type": "markdown",
   "id": "fbca86ef",
   "metadata": {},
   "source": [
    "### Выводы сегментации:\n",
    "- Определены 6 самых влиятельных сегментов:\n",
    "    1. Клиенты, **проявлявшие активность в последнее время** и имеющие **оценку имущества от 3** уходят в **37%** случаев и составляют **59%** от всех ушедших\n",
    "    2. Клиенты, имеющие **кредитный скорринг в диапазоне [820,920]** и имеющие **оценку имущества от 3** уходят в **33%** случаев и составляют **66%** от всех ушедших\n",
    "    3. Клиенты, имеющие **оценку имущества от 3** уходят в **26%**** случаев и составляют **81%** от всех ушедших\n",
    "    4. Клиенты, **использующие 2 и более продуктов** банка уходят в **24%** случаев и составляют **87%** от всех ушедших\n",
    "    5. Клиенты, **использующие 2 и более продуктов** банка и имеющие **оценку имущества от 3** уходят в **28%** случаев и составляют **72%** от всех ушедших\n",
    "    6. Клиенты, имеющие **кредитный скорринг в диапазоне [820,920]** и **использующие 2 и более продуктов** банка уходят в **31%** случаев и составляют **67%** от всех ушедших\n",
    "- Также, несмотря на малое количество ушедших, следует обратить внимание на следующие сегменты:\n",
    "    1. Клиенты, имеющие **оценку имущества от 3** и имеющие **баланс от 950 тысяч рублей** уходят в **38%** случаев и составляют **39%** от всех ушедших\n",
    "    2. Клиенты, **использующие 2 и более продуктов** банка и имеющие **баланс от 950 тысяч рублей** уходят в **35%** случаев и составляют **39%** от всех ушедших\n",
    "    3. Клиенты, имеющие **оценку имущества от 3** и являющиеся **мужчинами** уходят в **35%** случаев и составляют **53%** от всех ушедших\n",
    "    4. Клиенты, **проявлявшие активность в последнее время** и **не имеющие кредитной карты** уходят в **35%** случаев и составляют **34%** от всех ушедших\n",
    "    5. Клиенты, являющиеся **мужчинами** и **не имеющие кредитной карты** уходят в **35%** случаев и составляют **25%** от всех ушедших"
   ]
  },
  {
   "cell_type": "markdown",
   "id": "ee59f8f5",
   "metadata": {},
   "source": [
    "### Портрет отточного клиента"
   ]
  },
  {
   "cell_type": "code",
   "execution_count": null,
   "id": "2032b363",
   "metadata": {},
   "outputs": [],
   "source": [
    "# Задаём даатсет для определения портрета отточного клиента\n",
    "data_churn = data[['score', \n",
    "                   'age', \n",
    "                   'equity', \n",
    "                   'balance', \n",
    "                   'products', \n",
    "                   'credit_card', \n",
    "                   'last_activity', \n",
    "                   'est_salary', \n",
    "                   'churn', \n",
    "                   'city',\n",
    "                   'male']].query('churn == 1').copy()\n",
    "\n",
    "data_churn.drop('churn', axis=1, inplace=True)\n",
    "\n",
    "data_churn = data_churn.assign(salary = data_churn.est_salary.clip(0,701000.0).round(-5))\n",
    "data_churn = data_churn.assign(balance_clipped = data_churn.balance.clip(0,1500000).round(-6))\n",
    "data_churn = data_churn.assign(score_clipped = data_churn.score.clip(0,901).round(-2))\n",
    "data_churn = data_churn.assign(age_clipped = data_churn.age.clip(0,80).round(-1))\n",
    "\n",
    "data_churn.drop(['score', 'balance', 'est_salary', 'age'], axis=1, inplace=True)\n",
    "(\n",
    "    data_churn\n",
    "    .rename(columns={'balance_clipped':'balance', 'score_clipped':'score', 'salary':'est_salary', 'age_clipped':'age'},\n",
    "            inplace=True)\n",
    ")"
   ]
  },
  {
   "cell_type": "code",
   "execution_count": null,
   "id": "17bacd9a",
   "metadata": {},
   "outputs": [],
   "source": [
    "# Строим гистограммы для каждой харак-ки\n",
    "for col in data_churn.columns:\n",
    "    sns.histplot(data=data_churn, x=col)\n",
    "    plt.show()\n",
    "    print(data_churn[col].value_counts(normalize=True))"
   ]
  },
  {
   "cell_type": "code",
   "execution_count": null,
   "id": "7c504596",
   "metadata": {},
   "outputs": [],
   "source": [
    "# Задаём даатсет для определения портрета НЕ отточного клиента\n",
    "data_no_churn = data[['score', \n",
    "                   'age', \n",
    "                   'equity', \n",
    "                   'balance', \n",
    "                   'products', \n",
    "                   'credit_card', \n",
    "                   'last_activity', \n",
    "                   'est_salary', \n",
    "                   'churn', \n",
    "                   'city',\n",
    "                   'male']].query('churn == 0').copy()\n",
    "\n",
    "data_no_churn.drop('churn', axis=1, inplace=True)\n",
    "\n",
    "data_no_churn = data_no_churn.assign(salary = data_no_churn.est_salary.clip(0,701000.0).round(-5))\n",
    "data_no_churn = data_no_churn.assign(balance_clipped = data_no_churn.balance.clip(0,1500000).round(-6))\n",
    "data_no_churn = data_no_churn.assign(score_clipped = data_no_churn.score.clip(0,901).round(-2))\n",
    "data_no_churn = data_no_churn.assign(age_clipped = data_no_churn.age.clip(0,80).round(-1))\n",
    "\n",
    "data_no_churn.drop(['score', 'balance', 'est_salary', 'age'], axis=1, inplace=True)\n",
    "(\n",
    "    data_no_churn\n",
    "    .rename(columns={'balance_clipped':'balance', 'score_clipped':'score', 'salary':'est_salary', 'age_clipped':'age'},\n",
    "            inplace=True)\n",
    ")"
   ]
  },
  {
   "cell_type": "code",
   "execution_count": null,
   "id": "97403766",
   "metadata": {},
   "outputs": [],
   "source": [
    "# Строим гистограммы для каждой харак-ки\n",
    "for col in data_no_churn.columns:\n",
    "    sns.histplot(data=data_no_churn, x=col)\n",
    "    plt.show()\n",
    "    print(data_no_churn[col].value_counts(normalize=True))"
   ]
  },
  {
   "cell_type": "markdown",
   "id": "ee456a74",
   "metadata": {},
   "source": [
    "**Чаще всего ушедший клиент:**\n",
    "- Имеет оценку имущества от 3 до 5 (в 75% случаев)\n",
    "- Пользуется 2 продуктами банка (в 54% случаев)\n",
    "- Имеет кредитную карту (в 55% случаев)\n",
    "- Проявлял активность в последнее время (70% случаев)\n",
    "- Открывал счёт в Ярославле (в 62% случаев)\n",
    "- Мужчина (в 65% случаев)\n",
    "- Имеет зарплату ***примерно*** от 100 до 200 тысяч рублей (в 82% случаев)\n",
    "- Имеет баланс на счёте ***примерно*** до 1 миллиона рублей (в 80% случаев)\n",
    "- Имеет кредитный скорринг ***примерно*** от 800 до 900 очков (в 99% случаев) \n",
    "- Возрастом ***примерно*** от 30 до 40 лет (в 62% случаев)\n",
    "\n",
    "\n",
    "**Чаще всего НЕушедший клиент:**\n",
    "- Имеет оценку имущества до 3 (в 62% случаев)\n",
    "- Пользуется 1 или 2 продуктами банка (в 89% случаев)\n",
    "- Имеет кредитную карту (в 71% случаев)\n",
    "- Не проявлял активность в последнее время (52% случаев)\n",
    "- Открывал счёт в Ярославле (в 59% случаев)\n",
    "- Женщина (в 53% случаев)\n",
    "- Имеет зарплату ***примерно*** от 100 до 200 тысяч рублей (в 78% случаев)\n",
    "- Имеет баланс на счёте ***примерно*** до 1 миллиона рублей (в 85% случаев)\n",
    "- Имеет кредитный скорринг ***примерно*** от 800 до 900 очков (в 92% случаев) \n",
    "- Возрастом ***примерно*** от 30 до 40 лет (в 62% случаев)\n"
   ]
  },
  {
   "cell_type": "markdown",
   "id": "b2e6b3ca",
   "metadata": {},
   "source": [
    "### Рекомендации для менеджера отдела маркетинга"
   ]
  },
  {
   "cell_type": "markdown",
   "id": "2e589320",
   "metadata": {},
   "source": [
    "- Улучшить условия для клиентов, проявляющих активность в последнее время. Например, ввести раздачу промокодов за активность в приложении банка или за опредлённое количество операций с банковскими продуктами\n",
    "- Сделать более привлекательным использование кредитной карты для клиентов с высоким кредитным скоррингом и оценкой имущества от 3 (увеличенный беспроцентный период/повышенный кэшбек)\n",
    "- Ввести бонусную программу для клиентов, пользующихся двумя и более продуктами банка (повышенный процент по депозиту, отсутствие оплаты за обслуживание и тому подобные)\n",
    "- Предложить более выгодные условия для клиентов с балансом на счёте от 950 тысяч рублей, повыешенный процент на остаток по счёту/депозит"
   ]
  }
 ],
 "metadata": {
  "ExecuteTimeLog": [
   {
    "duration": 1110,
    "start_time": "2022-10-20T15:40:28.974Z"
   },
   {
    "duration": 0,
    "start_time": "2022-10-20T15:40:30.086Z"
   },
   {
    "duration": 0,
    "start_time": "2022-10-20T15:40:30.088Z"
   },
   {
    "duration": 0,
    "start_time": "2022-10-20T15:40:30.089Z"
   },
   {
    "duration": 0,
    "start_time": "2022-10-20T15:40:30.091Z"
   },
   {
    "duration": 0,
    "start_time": "2022-10-20T15:40:30.092Z"
   },
   {
    "duration": 0,
    "start_time": "2022-10-20T15:40:30.093Z"
   },
   {
    "duration": 0,
    "start_time": "2022-10-20T15:40:30.094Z"
   },
   {
    "duration": 0,
    "start_time": "2022-10-20T15:40:30.095Z"
   },
   {
    "duration": 0,
    "start_time": "2022-10-20T15:40:30.097Z"
   },
   {
    "duration": 0,
    "start_time": "2022-10-20T15:40:30.099Z"
   },
   {
    "duration": 12,
    "start_time": "2022-10-20T15:41:15.688Z"
   },
   {
    "duration": 9,
    "start_time": "2022-10-20T15:41:20.326Z"
   },
   {
    "duration": 0,
    "start_time": "2022-10-20T15:41:20.337Z"
   },
   {
    "duration": 8,
    "start_time": "2022-10-20T15:41:20.349Z"
   },
   {
    "duration": 6,
    "start_time": "2022-10-20T15:41:20.367Z"
   },
   {
    "duration": 10,
    "start_time": "2022-10-20T15:41:20.377Z"
   },
   {
    "duration": 7,
    "start_time": "2022-10-20T15:41:20.414Z"
   },
   {
    "duration": 0,
    "start_time": "2022-10-20T15:41:20.422Z"
   },
   {
    "duration": 14,
    "start_time": "2022-10-20T15:41:20.429Z"
   },
   {
    "duration": 7,
    "start_time": "2022-10-20T15:41:20.447Z"
   },
   {
    "duration": 0,
    "start_time": "2022-10-20T15:41:20.455Z"
   },
   {
    "duration": 2982,
    "start_time": "2022-10-20T15:46:56.622Z"
   },
   {
    "duration": 2013,
    "start_time": "2022-10-20T15:47:28.964Z"
   },
   {
    "duration": 1268,
    "start_time": "2022-10-20T15:47:30.979Z"
   },
   {
    "duration": 1790,
    "start_time": "2022-10-20T15:47:32.248Z"
   },
   {
    "duration": 8,
    "start_time": "2022-10-20T15:47:34.040Z"
   },
   {
    "duration": 13,
    "start_time": "2022-10-20T15:47:34.049Z"
   },
   {
    "duration": 19,
    "start_time": "2022-10-20T15:47:34.064Z"
   },
   {
    "duration": 47,
    "start_time": "2022-10-20T15:47:34.084Z"
   },
   {
    "duration": 6,
    "start_time": "2022-10-20T15:47:34.132Z"
   },
   {
    "duration": 9,
    "start_time": "2022-10-20T15:47:34.140Z"
   },
   {
    "duration": 394,
    "start_time": "2022-10-20T15:47:34.151Z"
   },
   {
    "duration": 1245,
    "start_time": "2022-10-20T15:47:34.546Z"
   },
   {
    "duration": 180,
    "start_time": "2022-10-20T15:47:35.792Z"
   },
   {
    "duration": 66,
    "start_time": "2022-10-20T16:10:32.677Z"
   },
   {
    "duration": 71,
    "start_time": "2022-10-20T16:12:04.000Z"
   },
   {
    "duration": 106,
    "start_time": "2022-10-20T16:16:34.645Z"
   },
   {
    "duration": 108,
    "start_time": "2022-10-20T16:18:16.003Z"
   },
   {
    "duration": 185,
    "start_time": "2022-10-20T16:21:40.861Z"
   },
   {
    "duration": 167,
    "start_time": "2022-10-20T16:22:15.266Z"
   },
   {
    "duration": 241,
    "start_time": "2022-10-20T16:23:27.369Z"
   },
   {
    "duration": 249,
    "start_time": "2022-10-20T16:23:33.476Z"
   },
   {
    "duration": 244,
    "start_time": "2022-10-20T16:24:43.342Z"
   },
   {
    "duration": 252,
    "start_time": "2022-10-20T16:26:32.459Z"
   },
   {
    "duration": 330,
    "start_time": "2022-10-20T16:28:49.209Z"
   },
   {
    "duration": 253,
    "start_time": "2022-10-20T16:32:09.435Z"
   },
   {
    "duration": 261,
    "start_time": "2022-10-20T16:32:26.010Z"
   },
   {
    "duration": 170,
    "start_time": "2022-10-20T17:21:21.831Z"
   },
   {
    "duration": 172,
    "start_time": "2022-10-20T17:22:12.113Z"
   },
   {
    "duration": 175,
    "start_time": "2022-10-20T17:22:18.472Z"
   },
   {
    "duration": 174,
    "start_time": "2022-10-20T17:22:23.814Z"
   },
   {
    "duration": 183,
    "start_time": "2022-10-20T17:24:36.630Z"
   },
   {
    "duration": 179,
    "start_time": "2022-10-20T17:25:04.599Z"
   },
   {
    "duration": 193,
    "start_time": "2022-10-20T17:25:44.579Z"
   },
   {
    "duration": 178,
    "start_time": "2022-10-20T17:25:50.487Z"
   },
   {
    "duration": 329,
    "start_time": "2022-10-20T17:26:38.780Z"
   },
   {
    "duration": 173,
    "start_time": "2022-10-20T17:27:15.136Z"
   },
   {
    "duration": 128,
    "start_time": "2022-10-20T17:30:12.824Z"
   },
   {
    "duration": 128,
    "start_time": "2022-10-20T17:30:38.491Z"
   },
   {
    "duration": 125,
    "start_time": "2022-10-20T17:30:56.901Z"
   },
   {
    "duration": 136,
    "start_time": "2022-10-20T17:31:06.051Z"
   },
   {
    "duration": 135,
    "start_time": "2022-10-20T17:32:11.015Z"
   },
   {
    "duration": 134,
    "start_time": "2022-10-20T17:32:22.836Z"
   },
   {
    "duration": 130,
    "start_time": "2022-10-20T17:32:47.313Z"
   },
   {
    "duration": 134,
    "start_time": "2022-10-20T17:33:19.886Z"
   },
   {
    "duration": 187,
    "start_time": "2022-10-20T17:34:41.521Z"
   },
   {
    "duration": 171,
    "start_time": "2022-10-20T17:35:07.411Z"
   },
   {
    "duration": 16,
    "start_time": "2022-10-20T17:42:21.147Z"
   },
   {
    "duration": 13,
    "start_time": "2022-10-20T17:42:31.654Z"
   },
   {
    "duration": 14,
    "start_time": "2022-10-20T17:43:21.794Z"
   },
   {
    "duration": 18,
    "start_time": "2022-10-20T17:43:27.538Z"
   },
   {
    "duration": 139,
    "start_time": "2022-10-20T17:43:47.929Z"
   },
   {
    "duration": 139,
    "start_time": "2022-10-20T17:44:04.397Z"
   },
   {
    "duration": 231,
    "start_time": "2022-10-20T17:44:57.827Z"
   },
   {
    "duration": 149,
    "start_time": "2022-10-20T17:45:07.425Z"
   },
   {
    "duration": 2015,
    "start_time": "2022-10-20T17:49:25.763Z"
   },
   {
    "duration": 5,
    "start_time": "2022-10-20T17:49:27.780Z"
   },
   {
    "duration": 1631,
    "start_time": "2022-10-20T17:49:27.786Z"
   },
   {
    "duration": 7,
    "start_time": "2022-10-20T17:49:29.419Z"
   },
   {
    "duration": 25,
    "start_time": "2022-10-20T17:49:29.427Z"
   },
   {
    "duration": 26,
    "start_time": "2022-10-20T17:49:29.454Z"
   },
   {
    "duration": 35,
    "start_time": "2022-10-20T17:49:29.482Z"
   },
   {
    "duration": 6,
    "start_time": "2022-10-20T17:49:29.519Z"
   },
   {
    "duration": 27,
    "start_time": "2022-10-20T17:49:29.526Z"
   },
   {
    "duration": 382,
    "start_time": "2022-10-20T17:49:29.555Z"
   },
   {
    "duration": 1156,
    "start_time": "2022-10-20T17:49:29.939Z"
   },
   {
    "duration": 116,
    "start_time": "2022-10-20T17:49:31.097Z"
   },
   {
    "duration": 119,
    "start_time": "2022-10-20T17:49:31.215Z"
   },
   {
    "duration": 331,
    "start_time": "2022-10-20T17:49:31.336Z"
   },
   {
    "duration": 264,
    "start_time": "2022-10-20T17:49:31.669Z"
   },
   {
    "duration": 290,
    "start_time": "2022-10-20T17:49:31.935Z"
   },
   {
    "duration": 237,
    "start_time": "2022-10-20T17:49:32.227Z"
   },
   {
    "duration": 468,
    "start_time": "2022-10-20T17:49:32.466Z"
   },
   {
    "duration": 128,
    "start_time": "2022-10-20T17:49:32.935Z"
   },
   {
    "duration": 107,
    "start_time": "2022-10-20T17:49:33.064Z"
   },
   {
    "duration": 112,
    "start_time": "2022-10-20T17:49:33.173Z"
   },
   {
    "duration": 368,
    "start_time": "2022-10-20T17:49:33.287Z"
   },
   {
    "duration": 104,
    "start_time": "2022-10-20T17:49:33.657Z"
   },
   {
    "duration": 94,
    "start_time": "2022-10-20T17:49:33.763Z"
   },
   {
    "duration": 12,
    "start_time": "2022-10-20T17:49:33.859Z"
   },
   {
    "duration": 11,
    "start_time": "2022-10-20T17:49:33.872Z"
   },
   {
    "duration": 156,
    "start_time": "2022-10-20T17:49:33.885Z"
   },
   {
    "duration": 194,
    "start_time": "2022-10-20T17:49:34.044Z"
   },
   {
    "duration": 248,
    "start_time": "2022-10-20T17:49:34.239Z"
   },
   {
    "duration": 0,
    "start_time": "2022-10-20T17:49:34.488Z"
   },
   {
    "duration": 0,
    "start_time": "2022-10-20T17:49:34.489Z"
   },
   {
    "duration": 0,
    "start_time": "2022-10-20T17:49:34.490Z"
   },
   {
    "duration": 0,
    "start_time": "2022-10-20T17:49:34.491Z"
   },
   {
    "duration": 0,
    "start_time": "2022-10-20T17:49:34.492Z"
   },
   {
    "duration": 0,
    "start_time": "2022-10-20T17:49:34.493Z"
   },
   {
    "duration": 0,
    "start_time": "2022-10-20T17:49:34.494Z"
   },
   {
    "duration": 0,
    "start_time": "2022-10-20T17:49:34.495Z"
   },
   {
    "duration": 0,
    "start_time": "2022-10-20T17:49:34.496Z"
   },
   {
    "duration": 0,
    "start_time": "2022-10-20T17:49:34.497Z"
   },
   {
    "duration": 0,
    "start_time": "2022-10-20T17:49:34.498Z"
   },
   {
    "duration": 0,
    "start_time": "2022-10-20T17:49:34.499Z"
   },
   {
    "duration": 0,
    "start_time": "2022-10-20T17:49:34.500Z"
   },
   {
    "duration": 0,
    "start_time": "2022-10-20T17:49:34.501Z"
   },
   {
    "duration": 0,
    "start_time": "2022-10-20T17:49:34.502Z"
   },
   {
    "duration": 0,
    "start_time": "2022-10-20T17:49:34.503Z"
   },
   {
    "duration": 0,
    "start_time": "2022-10-20T17:49:34.522Z"
   },
   {
    "duration": 0,
    "start_time": "2022-10-20T17:49:34.523Z"
   },
   {
    "duration": 745,
    "start_time": "2022-10-20T17:49:51.446Z"
   },
   {
    "duration": 3388,
    "start_time": "2022-10-20T17:53:10.727Z"
   },
   {
    "duration": 3311,
    "start_time": "2022-10-20T17:53:24.192Z"
   },
   {
    "duration": 3281,
    "start_time": "2022-10-20T17:54:03.452Z"
   },
   {
    "duration": 4,
    "start_time": "2022-10-20T17:57:04.329Z"
   },
   {
    "duration": 5,
    "start_time": "2022-10-20T17:57:10.695Z"
   },
   {
    "duration": 3,
    "start_time": "2022-10-20T17:57:38.814Z"
   },
   {
    "duration": 190,
    "start_time": "2022-10-20T17:57:38.821Z"
   },
   {
    "duration": 139,
    "start_time": "2022-10-20T17:57:39.022Z"
   },
   {
    "duration": 0,
    "start_time": "2022-10-20T17:57:39.163Z"
   },
   {
    "duration": 0,
    "start_time": "2022-10-20T17:57:39.164Z"
   },
   {
    "duration": 0,
    "start_time": "2022-10-20T17:57:39.165Z"
   },
   {
    "duration": 0,
    "start_time": "2022-10-20T17:57:39.166Z"
   },
   {
    "duration": 0,
    "start_time": "2022-10-20T17:57:39.167Z"
   },
   {
    "duration": 0,
    "start_time": "2022-10-20T17:57:39.168Z"
   },
   {
    "duration": 0,
    "start_time": "2022-10-20T17:57:39.169Z"
   },
   {
    "duration": 0,
    "start_time": "2022-10-20T17:57:39.170Z"
   },
   {
    "duration": 0,
    "start_time": "2022-10-20T17:57:39.171Z"
   },
   {
    "duration": 0,
    "start_time": "2022-10-20T17:57:39.172Z"
   },
   {
    "duration": 0,
    "start_time": "2022-10-20T17:57:39.173Z"
   },
   {
    "duration": 0,
    "start_time": "2022-10-20T17:57:39.174Z"
   },
   {
    "duration": 0,
    "start_time": "2022-10-20T17:57:39.175Z"
   },
   {
    "duration": 0,
    "start_time": "2022-10-20T17:57:39.176Z"
   },
   {
    "duration": 0,
    "start_time": "2022-10-20T17:57:39.177Z"
   },
   {
    "duration": 0,
    "start_time": "2022-10-20T17:57:39.178Z"
   },
   {
    "duration": 0,
    "start_time": "2022-10-20T17:57:39.179Z"
   },
   {
    "duration": 0,
    "start_time": "2022-10-20T17:57:39.180Z"
   },
   {
    "duration": 0,
    "start_time": "2022-10-20T17:57:39.181Z"
   },
   {
    "duration": 0,
    "start_time": "2022-10-20T17:57:39.182Z"
   },
   {
    "duration": 0,
    "start_time": "2022-10-20T17:57:39.183Z"
   },
   {
    "duration": 3339,
    "start_time": "2022-10-20T17:58:00.125Z"
   },
   {
    "duration": 1734,
    "start_time": "2022-10-20T17:58:03.466Z"
   },
   {
    "duration": 1155,
    "start_time": "2022-10-20T17:58:05.201Z"
   },
   {
    "duration": 10,
    "start_time": "2022-10-20T17:58:06.359Z"
   },
   {
    "duration": 39,
    "start_time": "2022-10-20T17:58:06.371Z"
   },
   {
    "duration": 18,
    "start_time": "2022-10-20T17:58:06.412Z"
   },
   {
    "duration": 37,
    "start_time": "2022-10-20T17:58:06.432Z"
   },
   {
    "duration": 6,
    "start_time": "2022-10-20T17:58:06.470Z"
   },
   {
    "duration": 6,
    "start_time": "2022-10-20T17:58:06.478Z"
   },
   {
    "duration": 379,
    "start_time": "2022-10-20T17:58:06.487Z"
   },
   {
    "duration": 1195,
    "start_time": "2022-10-20T17:58:06.868Z"
   },
   {
    "duration": 106,
    "start_time": "2022-10-20T17:58:08.065Z"
   },
   {
    "duration": 178,
    "start_time": "2022-10-20T17:58:08.172Z"
   },
   {
    "duration": 331,
    "start_time": "2022-10-20T17:58:08.352Z"
   },
   {
    "duration": 274,
    "start_time": "2022-10-20T17:58:08.684Z"
   },
   {
    "duration": 302,
    "start_time": "2022-10-20T17:58:08.960Z"
   },
   {
    "duration": 244,
    "start_time": "2022-10-20T17:58:09.264Z"
   },
   {
    "duration": 367,
    "start_time": "2022-10-20T17:58:09.509Z"
   },
   {
    "duration": 128,
    "start_time": "2022-10-20T17:58:09.878Z"
   },
   {
    "duration": 182,
    "start_time": "2022-10-20T17:58:10.008Z"
   },
   {
    "duration": 105,
    "start_time": "2022-10-20T17:58:10.191Z"
   },
   {
    "duration": 396,
    "start_time": "2022-10-20T17:58:10.297Z"
   },
   {
    "duration": 107,
    "start_time": "2022-10-20T17:58:10.694Z"
   },
   {
    "duration": 89,
    "start_time": "2022-10-20T17:58:10.802Z"
   },
   {
    "duration": 10,
    "start_time": "2022-10-20T17:58:10.892Z"
   },
   {
    "duration": 18,
    "start_time": "2022-10-20T17:58:10.904Z"
   },
   {
    "duration": 141,
    "start_time": "2022-10-20T17:58:10.923Z"
   },
   {
    "duration": 189,
    "start_time": "2022-10-20T17:58:11.067Z"
   },
   {
    "duration": 249,
    "start_time": "2022-10-20T17:58:11.258Z"
   },
   {
    "duration": 0,
    "start_time": "2022-10-20T17:58:11.509Z"
   },
   {
    "duration": 0,
    "start_time": "2022-10-20T17:58:11.510Z"
   },
   {
    "duration": 0,
    "start_time": "2022-10-20T17:58:11.512Z"
   },
   {
    "duration": 0,
    "start_time": "2022-10-20T17:58:11.522Z"
   },
   {
    "duration": 0,
    "start_time": "2022-10-20T17:58:11.524Z"
   },
   {
    "duration": 0,
    "start_time": "2022-10-20T17:58:11.525Z"
   },
   {
    "duration": 0,
    "start_time": "2022-10-20T17:58:11.527Z"
   },
   {
    "duration": 0,
    "start_time": "2022-10-20T17:58:11.528Z"
   },
   {
    "duration": 0,
    "start_time": "2022-10-20T17:58:11.530Z"
   },
   {
    "duration": 0,
    "start_time": "2022-10-20T17:58:11.532Z"
   },
   {
    "duration": 0,
    "start_time": "2022-10-20T17:58:11.533Z"
   },
   {
    "duration": 1,
    "start_time": "2022-10-20T17:58:11.534Z"
   },
   {
    "duration": 0,
    "start_time": "2022-10-20T17:58:11.536Z"
   },
   {
    "duration": 0,
    "start_time": "2022-10-20T17:58:11.537Z"
   },
   {
    "duration": 0,
    "start_time": "2022-10-20T17:58:11.539Z"
   },
   {
    "duration": 0,
    "start_time": "2022-10-20T17:58:11.541Z"
   },
   {
    "duration": 0,
    "start_time": "2022-10-20T17:58:11.542Z"
   },
   {
    "duration": 0,
    "start_time": "2022-10-20T17:58:11.543Z"
   },
   {
    "duration": 0,
    "start_time": "2022-10-20T17:58:11.545Z"
   },
   {
    "duration": 0,
    "start_time": "2022-10-20T17:58:11.546Z"
   },
   {
    "duration": 0,
    "start_time": "2022-10-20T17:58:11.548Z"
   },
   {
    "duration": 0,
    "start_time": "2022-10-20T17:58:11.549Z"
   },
   {
    "duration": 0,
    "start_time": "2022-10-20T17:58:11.551Z"
   },
   {
    "duration": 0,
    "start_time": "2022-10-20T17:58:11.552Z"
   },
   {
    "duration": 143,
    "start_time": "2022-10-20T17:58:19.734Z"
   },
   {
    "duration": 4,
    "start_time": "2022-10-20T17:58:21.380Z"
   },
   {
    "duration": 134,
    "start_time": "2022-10-20T17:58:22.792Z"
   },
   {
    "duration": 198,
    "start_time": "2022-10-20T17:58:23.614Z"
   },
   {
    "duration": 151,
    "start_time": "2022-10-20T17:58:25.108Z"
   },
   {
    "duration": 128,
    "start_time": "2022-10-20T17:58:32.956Z"
   },
   {
    "duration": 143,
    "start_time": "2022-10-20T17:58:34.234Z"
   },
   {
    "duration": 157,
    "start_time": "2022-10-20T17:58:37.211Z"
   },
   {
    "duration": 148,
    "start_time": "2022-10-20T17:58:38.467Z"
   },
   {
    "duration": 312,
    "start_time": "2022-10-20T17:58:41.066Z"
   },
   {
    "duration": 110,
    "start_time": "2022-10-20T17:58:42.824Z"
   },
   {
    "duration": 243,
    "start_time": "2022-10-20T17:58:44.711Z"
   },
   {
    "duration": 246,
    "start_time": "2022-10-20T17:58:46.351Z"
   },
   {
    "duration": 340,
    "start_time": "2022-10-20T17:58:47.998Z"
   },
   {
    "duration": 230,
    "start_time": "2022-10-20T17:58:49.812Z"
   },
   {
    "duration": 150,
    "start_time": "2022-10-20T17:58:51.392Z"
   },
   {
    "duration": 167,
    "start_time": "2022-10-20T17:58:52.180Z"
   },
   {
    "duration": 130,
    "start_time": "2022-10-20T17:58:53.871Z"
   },
   {
    "duration": 476,
    "start_time": "2022-10-20T17:58:55.054Z"
   },
   {
    "duration": 1397,
    "start_time": "2022-10-20T17:58:55.793Z"
   },
   {
    "duration": 1307,
    "start_time": "2022-10-20T17:59:03.804Z"
   },
   {
    "duration": 4,
    "start_time": "2022-10-20T17:59:14.187Z"
   },
   {
    "duration": 5,
    "start_time": "2022-10-20T17:59:28.240Z"
   },
   {
    "duration": 27,
    "start_time": "2022-10-20T18:00:40.169Z"
   },
   {
    "duration": 18,
    "start_time": "2022-10-20T18:00:45.062Z"
   },
   {
    "duration": 16,
    "start_time": "2022-10-20T18:00:46.938Z"
   },
   {
    "duration": 14,
    "start_time": "2022-10-20T18:02:45.192Z"
   },
   {
    "duration": 11,
    "start_time": "2022-10-20T18:02:49.443Z"
   },
   {
    "duration": 25,
    "start_time": "2022-10-20T18:02:54.321Z"
   },
   {
    "duration": 7,
    "start_time": "2022-10-20T18:02:58.273Z"
   },
   {
    "duration": 7,
    "start_time": "2022-10-20T18:03:11.308Z"
   },
   {
    "duration": 8,
    "start_time": "2022-10-20T18:03:25.260Z"
   },
   {
    "duration": 63,
    "start_time": "2022-10-20T18:04:14.464Z"
   },
   {
    "duration": 1207,
    "start_time": "2022-10-20T18:04:20.110Z"
   },
   {
    "duration": 1794,
    "start_time": "2022-10-20T18:04:44.948Z"
   },
   {
    "duration": 1579,
    "start_time": "2022-10-20T18:05:52.161Z"
   },
   {
    "duration": 1609,
    "start_time": "2022-10-20T18:06:21.342Z"
   },
   {
    "duration": 1734,
    "start_time": "2022-10-20T18:06:28.698Z"
   },
   {
    "duration": 1562,
    "start_time": "2022-10-20T18:06:42.270Z"
   },
   {
    "duration": 10,
    "start_time": "2022-10-20T18:11:23.826Z"
   },
   {
    "duration": 10,
    "start_time": "2022-10-20T18:11:24.408Z"
   },
   {
    "duration": 9,
    "start_time": "2022-10-20T18:11:24.851Z"
   },
   {
    "duration": 9,
    "start_time": "2022-10-20T18:11:25.688Z"
   },
   {
    "duration": 17,
    "start_time": "2022-10-20T18:26:31.450Z"
   },
   {
    "duration": 9,
    "start_time": "2022-10-20T18:26:48.250Z"
   },
   {
    "duration": 18,
    "start_time": "2022-10-20T18:26:56.636Z"
   },
   {
    "duration": 16,
    "start_time": "2022-10-20T18:28:55.274Z"
   },
   {
    "duration": 19,
    "start_time": "2022-10-20T18:29:58.900Z"
   },
   {
    "duration": 17,
    "start_time": "2022-10-20T18:30:09.785Z"
   },
   {
    "duration": 51,
    "start_time": "2022-10-23T11:32:42.172Z"
   },
   {
    "duration": 42,
    "start_time": "2022-10-23T11:33:52.935Z"
   },
   {
    "duration": 364,
    "start_time": "2022-10-23T11:33:56.463Z"
   },
   {
    "duration": 369,
    "start_time": "2022-10-23T11:34:03.033Z"
   },
   {
    "duration": 6824,
    "start_time": "2022-10-23T11:34:11.043Z"
   },
   {
    "duration": 1091,
    "start_time": "2022-10-23T11:34:33.540Z"
   },
   {
    "duration": 2709,
    "start_time": "2022-10-23T11:34:36.577Z"
   },
   {
    "duration": 5750,
    "start_time": "2022-10-23T11:35:06.932Z"
   },
   {
    "duration": 1120,
    "start_time": "2022-10-23T11:35:40.958Z"
   },
   {
    "duration": 4203,
    "start_time": "2022-10-23T11:35:42.080Z"
   },
   {
    "duration": 4,
    "start_time": "2022-10-23T11:35:46.284Z"
   },
   {
    "duration": 1191,
    "start_time": "2022-10-23T11:35:46.290Z"
   },
   {
    "duration": 38,
    "start_time": "2022-10-23T11:35:47.483Z"
   },
   {
    "duration": 13,
    "start_time": "2022-10-23T11:35:47.523Z"
   },
   {
    "duration": 13,
    "start_time": "2022-10-23T11:35:47.537Z"
   },
   {
    "duration": 86,
    "start_time": "2022-10-23T11:35:47.551Z"
   },
   {
    "duration": 5,
    "start_time": "2022-10-23T11:35:47.639Z"
   },
   {
    "duration": 8,
    "start_time": "2022-10-23T11:35:47.646Z"
   },
   {
    "duration": 712,
    "start_time": "2022-10-23T11:35:47.655Z"
   },
   {
    "duration": 1086,
    "start_time": "2022-10-23T11:35:48.369Z"
   },
   {
    "duration": 165,
    "start_time": "2022-10-23T11:35:49.457Z"
   },
   {
    "duration": 216,
    "start_time": "2022-10-23T11:35:49.624Z"
   },
   {
    "duration": 623,
    "start_time": "2022-10-23T11:35:49.842Z"
   },
   {
    "duration": 0,
    "start_time": "2022-10-23T11:35:50.468Z"
   },
   {
    "duration": 0,
    "start_time": "2022-10-23T11:35:50.469Z"
   },
   {
    "duration": 0,
    "start_time": "2022-10-23T11:35:50.471Z"
   },
   {
    "duration": 0,
    "start_time": "2022-10-23T11:35:50.472Z"
   },
   {
    "duration": 0,
    "start_time": "2022-10-23T11:35:50.473Z"
   },
   {
    "duration": 0,
    "start_time": "2022-10-23T11:35:50.475Z"
   },
   {
    "duration": 0,
    "start_time": "2022-10-23T11:35:50.476Z"
   },
   {
    "duration": 0,
    "start_time": "2022-10-23T11:35:50.477Z"
   },
   {
    "duration": 0,
    "start_time": "2022-10-23T11:35:50.478Z"
   },
   {
    "duration": 0,
    "start_time": "2022-10-23T11:35:50.480Z"
   },
   {
    "duration": 0,
    "start_time": "2022-10-23T11:35:50.481Z"
   },
   {
    "duration": 0,
    "start_time": "2022-10-23T11:35:50.483Z"
   },
   {
    "duration": 0,
    "start_time": "2022-10-23T11:35:50.484Z"
   },
   {
    "duration": 0,
    "start_time": "2022-10-23T11:35:50.485Z"
   },
   {
    "duration": 0,
    "start_time": "2022-10-23T11:35:50.487Z"
   },
   {
    "duration": 0,
    "start_time": "2022-10-23T11:35:50.522Z"
   },
   {
    "duration": 0,
    "start_time": "2022-10-23T11:35:50.523Z"
   },
   {
    "duration": 0,
    "start_time": "2022-10-23T11:35:50.525Z"
   },
   {
    "duration": 0,
    "start_time": "2022-10-23T11:35:50.526Z"
   },
   {
    "duration": 0,
    "start_time": "2022-10-23T11:35:50.527Z"
   },
   {
    "duration": 0,
    "start_time": "2022-10-23T11:35:50.528Z"
   },
   {
    "duration": 0,
    "start_time": "2022-10-23T11:35:50.530Z"
   },
   {
    "duration": 0,
    "start_time": "2022-10-23T11:35:50.531Z"
   },
   {
    "duration": 0,
    "start_time": "2022-10-23T11:35:50.533Z"
   },
   {
    "duration": 0,
    "start_time": "2022-10-23T11:35:50.534Z"
   },
   {
    "duration": 0,
    "start_time": "2022-10-23T11:35:50.536Z"
   },
   {
    "duration": 0,
    "start_time": "2022-10-23T11:35:50.537Z"
   },
   {
    "duration": 0,
    "start_time": "2022-10-23T11:35:50.538Z"
   },
   {
    "duration": 0,
    "start_time": "2022-10-23T11:35:50.540Z"
   },
   {
    "duration": 0,
    "start_time": "2022-10-23T11:35:50.541Z"
   },
   {
    "duration": 0,
    "start_time": "2022-10-23T11:35:50.543Z"
   },
   {
    "duration": 0,
    "start_time": "2022-10-23T11:35:50.544Z"
   },
   {
    "duration": 0,
    "start_time": "2022-10-23T11:35:50.545Z"
   },
   {
    "duration": 0,
    "start_time": "2022-10-23T11:35:50.547Z"
   },
   {
    "duration": 0,
    "start_time": "2022-10-23T11:35:50.548Z"
   },
   {
    "duration": 0,
    "start_time": "2022-10-23T11:35:50.549Z"
   },
   {
    "duration": 0,
    "start_time": "2022-10-23T11:35:50.550Z"
   },
   {
    "duration": 0,
    "start_time": "2022-10-23T11:35:50.552Z"
   },
   {
    "duration": 0,
    "start_time": "2022-10-23T11:35:50.553Z"
   },
   {
    "duration": 0,
    "start_time": "2022-10-23T11:35:50.554Z"
   },
   {
    "duration": 4993,
    "start_time": "2022-10-23T11:36:01.696Z"
   },
   {
    "duration": 4,
    "start_time": "2022-10-23T11:36:06.692Z"
   },
   {
    "duration": 1154,
    "start_time": "2022-10-23T11:36:06.698Z"
   },
   {
    "duration": 9,
    "start_time": "2022-10-23T11:36:07.854Z"
   },
   {
    "duration": 14,
    "start_time": "2022-10-23T11:36:07.864Z"
   },
   {
    "duration": 15,
    "start_time": "2022-10-23T11:36:07.880Z"
   },
   {
    "duration": 39,
    "start_time": "2022-10-23T11:36:07.897Z"
   },
   {
    "duration": 6,
    "start_time": "2022-10-23T11:36:07.938Z"
   },
   {
    "duration": 9,
    "start_time": "2022-10-23T11:36:07.945Z"
   },
   {
    "duration": 411,
    "start_time": "2022-10-23T11:36:07.957Z"
   },
   {
    "duration": 1105,
    "start_time": "2022-10-23T11:36:08.369Z"
   },
   {
    "duration": 162,
    "start_time": "2022-10-23T11:36:09.476Z"
   },
   {
    "duration": 282,
    "start_time": "2022-10-23T11:36:09.640Z"
   },
   {
    "duration": 477,
    "start_time": "2022-10-23T11:36:09.924Z"
   },
   {
    "duration": 0,
    "start_time": "2022-10-23T11:36:10.403Z"
   },
   {
    "duration": 0,
    "start_time": "2022-10-23T11:36:10.405Z"
   },
   {
    "duration": 0,
    "start_time": "2022-10-23T11:36:10.406Z"
   },
   {
    "duration": 0,
    "start_time": "2022-10-23T11:36:10.408Z"
   },
   {
    "duration": 0,
    "start_time": "2022-10-23T11:36:10.420Z"
   },
   {
    "duration": 0,
    "start_time": "2022-10-23T11:36:10.421Z"
   },
   {
    "duration": 0,
    "start_time": "2022-10-23T11:36:10.423Z"
   },
   {
    "duration": 0,
    "start_time": "2022-10-23T11:36:10.424Z"
   },
   {
    "duration": 0,
    "start_time": "2022-10-23T11:36:10.426Z"
   },
   {
    "duration": 0,
    "start_time": "2022-10-23T11:36:10.427Z"
   },
   {
    "duration": 0,
    "start_time": "2022-10-23T11:36:10.429Z"
   },
   {
    "duration": 0,
    "start_time": "2022-10-23T11:36:10.430Z"
   },
   {
    "duration": 0,
    "start_time": "2022-10-23T11:36:10.432Z"
   },
   {
    "duration": 1,
    "start_time": "2022-10-23T11:36:10.433Z"
   },
   {
    "duration": 0,
    "start_time": "2022-10-23T11:36:10.435Z"
   },
   {
    "duration": 0,
    "start_time": "2022-10-23T11:36:10.436Z"
   },
   {
    "duration": 0,
    "start_time": "2022-10-23T11:36:10.438Z"
   },
   {
    "duration": 0,
    "start_time": "2022-10-23T11:36:10.440Z"
   },
   {
    "duration": 0,
    "start_time": "2022-10-23T11:36:10.441Z"
   },
   {
    "duration": 0,
    "start_time": "2022-10-23T11:36:10.442Z"
   },
   {
    "duration": 0,
    "start_time": "2022-10-23T11:36:10.444Z"
   },
   {
    "duration": 0,
    "start_time": "2022-10-23T11:36:10.446Z"
   },
   {
    "duration": 0,
    "start_time": "2022-10-23T11:36:10.447Z"
   },
   {
    "duration": 0,
    "start_time": "2022-10-23T11:36:10.448Z"
   },
   {
    "duration": 0,
    "start_time": "2022-10-23T11:36:10.449Z"
   },
   {
    "duration": 0,
    "start_time": "2022-10-23T11:36:10.451Z"
   },
   {
    "duration": 0,
    "start_time": "2022-10-23T11:36:10.452Z"
   },
   {
    "duration": 0,
    "start_time": "2022-10-23T11:36:10.453Z"
   },
   {
    "duration": 0,
    "start_time": "2022-10-23T11:36:10.454Z"
   },
   {
    "duration": 0,
    "start_time": "2022-10-23T11:36:10.456Z"
   },
   {
    "duration": 0,
    "start_time": "2022-10-23T11:36:10.457Z"
   },
   {
    "duration": 0,
    "start_time": "2022-10-23T11:36:10.459Z"
   },
   {
    "duration": 0,
    "start_time": "2022-10-23T11:36:10.521Z"
   },
   {
    "duration": 0,
    "start_time": "2022-10-23T11:36:10.523Z"
   },
   {
    "duration": 0,
    "start_time": "2022-10-23T11:36:10.524Z"
   },
   {
    "duration": 0,
    "start_time": "2022-10-23T11:36:10.525Z"
   },
   {
    "duration": 0,
    "start_time": "2022-10-23T11:36:10.526Z"
   },
   {
    "duration": 0,
    "start_time": "2022-10-23T11:36:10.527Z"
   },
   {
    "duration": 1,
    "start_time": "2022-10-23T11:36:10.528Z"
   },
   {
    "duration": 0,
    "start_time": "2022-10-23T11:36:10.530Z"
   },
   {
    "duration": 428,
    "start_time": "2022-10-23T11:36:35.215Z"
   },
   {
    "duration": 427,
    "start_time": "2022-10-23T11:36:39.148Z"
   },
   {
    "duration": 359,
    "start_time": "2022-10-23T11:36:39.577Z"
   },
   {
    "duration": 0,
    "start_time": "2022-10-23T11:36:39.939Z"
   },
   {
    "duration": 0,
    "start_time": "2022-10-23T11:36:39.940Z"
   },
   {
    "duration": 0,
    "start_time": "2022-10-23T11:36:39.941Z"
   },
   {
    "duration": 0,
    "start_time": "2022-10-23T11:36:39.942Z"
   },
   {
    "duration": 0,
    "start_time": "2022-10-23T11:36:39.943Z"
   },
   {
    "duration": 0,
    "start_time": "2022-10-23T11:36:39.944Z"
   },
   {
    "duration": 0,
    "start_time": "2022-10-23T11:36:39.945Z"
   },
   {
    "duration": 0,
    "start_time": "2022-10-23T11:36:39.946Z"
   },
   {
    "duration": 0,
    "start_time": "2022-10-23T11:36:39.947Z"
   },
   {
    "duration": 1,
    "start_time": "2022-10-23T11:36:39.947Z"
   },
   {
    "duration": 0,
    "start_time": "2022-10-23T11:36:39.948Z"
   },
   {
    "duration": 0,
    "start_time": "2022-10-23T11:36:39.949Z"
   },
   {
    "duration": 0,
    "start_time": "2022-10-23T11:36:39.950Z"
   },
   {
    "duration": 0,
    "start_time": "2022-10-23T11:36:39.951Z"
   },
   {
    "duration": 0,
    "start_time": "2022-10-23T11:36:39.952Z"
   },
   {
    "duration": 0,
    "start_time": "2022-10-23T11:36:39.953Z"
   },
   {
    "duration": 0,
    "start_time": "2022-10-23T11:36:39.954Z"
   },
   {
    "duration": 0,
    "start_time": "2022-10-23T11:36:39.955Z"
   },
   {
    "duration": 0,
    "start_time": "2022-10-23T11:36:39.956Z"
   },
   {
    "duration": 0,
    "start_time": "2022-10-23T11:36:39.957Z"
   },
   {
    "duration": 0,
    "start_time": "2022-10-23T11:36:39.958Z"
   },
   {
    "duration": 0,
    "start_time": "2022-10-23T11:36:39.959Z"
   },
   {
    "duration": 0,
    "start_time": "2022-10-23T11:36:39.960Z"
   },
   {
    "duration": 0,
    "start_time": "2022-10-23T11:36:39.961Z"
   },
   {
    "duration": 0,
    "start_time": "2022-10-23T11:36:39.962Z"
   },
   {
    "duration": 0,
    "start_time": "2022-10-23T11:36:39.963Z"
   },
   {
    "duration": 0,
    "start_time": "2022-10-23T11:36:39.964Z"
   },
   {
    "duration": 0,
    "start_time": "2022-10-23T11:36:39.965Z"
   },
   {
    "duration": 0,
    "start_time": "2022-10-23T11:36:39.966Z"
   },
   {
    "duration": 0,
    "start_time": "2022-10-23T11:36:39.967Z"
   },
   {
    "duration": 0,
    "start_time": "2022-10-23T11:36:39.968Z"
   },
   {
    "duration": 0,
    "start_time": "2022-10-23T11:36:39.969Z"
   },
   {
    "duration": 0,
    "start_time": "2022-10-23T11:36:39.970Z"
   },
   {
    "duration": 0,
    "start_time": "2022-10-23T11:36:39.970Z"
   },
   {
    "duration": 0,
    "start_time": "2022-10-23T11:36:39.971Z"
   },
   {
    "duration": 0,
    "start_time": "2022-10-23T11:36:40.021Z"
   },
   {
    "duration": 0,
    "start_time": "2022-10-23T11:36:40.022Z"
   },
   {
    "duration": 0,
    "start_time": "2022-10-23T11:36:40.022Z"
   },
   {
    "duration": 0,
    "start_time": "2022-10-23T11:36:40.023Z"
   },
   {
    "duration": 4,
    "start_time": "2022-10-23T11:37:25.841Z"
   },
   {
    "duration": 399,
    "start_time": "2022-10-23T11:37:32.970Z"
   },
   {
    "duration": 373,
    "start_time": "2022-10-23T11:37:38.054Z"
   },
   {
    "duration": 550,
    "start_time": "2022-10-23T11:37:38.429Z"
   },
   {
    "duration": 412,
    "start_time": "2022-10-23T11:37:38.981Z"
   },
   {
    "duration": 538,
    "start_time": "2022-10-23T11:37:39.395Z"
   },
   {
    "duration": 196,
    "start_time": "2022-10-23T11:37:39.934Z"
   },
   {
    "duration": 204,
    "start_time": "2022-10-23T11:37:40.132Z"
   },
   {
    "duration": 208,
    "start_time": "2022-10-23T11:37:40.338Z"
   },
   {
    "duration": 600,
    "start_time": "2022-10-23T11:37:40.547Z"
   },
   {
    "duration": 175,
    "start_time": "2022-10-23T11:37:41.148Z"
   },
   {
    "duration": 206,
    "start_time": "2022-10-23T11:37:41.326Z"
   },
   {
    "duration": 94,
    "start_time": "2022-10-23T11:37:41.534Z"
   },
   {
    "duration": 9,
    "start_time": "2022-10-23T11:37:41.630Z"
   },
   {
    "duration": 428,
    "start_time": "2022-10-23T11:37:41.641Z"
   },
   {
    "duration": 516,
    "start_time": "2022-10-23T11:37:42.121Z"
   },
   {
    "duration": 486,
    "start_time": "2022-10-23T11:37:42.639Z"
   },
   {
    "duration": 3,
    "start_time": "2022-10-23T11:37:43.127Z"
   },
   {
    "duration": 336,
    "start_time": "2022-10-23T11:37:43.131Z"
   },
   {
    "duration": 366,
    "start_time": "2022-10-23T11:37:43.469Z"
   },
   {
    "duration": 264,
    "start_time": "2022-10-23T11:37:43.837Z"
   },
   {
    "duration": 382,
    "start_time": "2022-10-23T11:37:44.103Z"
   },
   {
    "duration": 312,
    "start_time": "2022-10-23T11:37:44.486Z"
   },
   {
    "duration": 296,
    "start_time": "2022-10-23T11:37:44.799Z"
   },
   {
    "duration": 307,
    "start_time": "2022-10-23T11:37:45.097Z"
   },
   {
    "duration": 479,
    "start_time": "2022-10-23T11:37:45.406Z"
   },
   {
    "duration": 278,
    "start_time": "2022-10-23T11:37:45.887Z"
   },
   {
    "duration": 396,
    "start_time": "2022-10-23T11:37:46.167Z"
   },
   {
    "duration": 409,
    "start_time": "2022-10-23T11:37:46.564Z"
   },
   {
    "duration": 391,
    "start_time": "2022-10-23T11:37:46.976Z"
   },
   {
    "duration": 383,
    "start_time": "2022-10-23T11:37:47.369Z"
   },
   {
    "duration": 250,
    "start_time": "2022-10-23T11:37:47.753Z"
   },
   {
    "duration": 331,
    "start_time": "2022-10-23T11:37:48.005Z"
   },
   {
    "duration": 269,
    "start_time": "2022-10-23T11:37:48.337Z"
   },
   {
    "duration": 539,
    "start_time": "2022-10-23T11:37:48.607Z"
   },
   {
    "duration": 1221,
    "start_time": "2022-10-23T11:37:49.147Z"
   },
   {
    "duration": 1777,
    "start_time": "2022-10-23T11:37:50.370Z"
   },
   {
    "duration": 17,
    "start_time": "2022-10-23T11:37:52.148Z"
   },
   {
    "duration": 19,
    "start_time": "2022-10-23T11:37:52.166Z"
   },
   {
    "duration": 27,
    "start_time": "2022-10-23T11:37:52.186Z"
   },
   {
    "duration": 24,
    "start_time": "2022-10-23T11:37:52.215Z"
   },
   {
    "duration": 24,
    "start_time": "2022-10-23T11:37:52.241Z"
   },
   {
    "duration": 14,
    "start_time": "2022-10-23T11:45:47.046Z"
   },
   {
    "duration": 10,
    "start_time": "2022-10-23T11:56:19.322Z"
   },
   {
    "duration": 18,
    "start_time": "2022-10-23T11:56:23.519Z"
   },
   {
    "duration": 383,
    "start_time": "2022-10-23T11:56:58.169Z"
   },
   {
    "duration": 987,
    "start_time": "2022-10-23T11:56:58.719Z"
   },
   {
    "duration": 284,
    "start_time": "2022-10-23T11:57:50.491Z"
   },
   {
    "duration": 370,
    "start_time": "2022-10-23T11:58:25.862Z"
   },
   {
    "duration": 413,
    "start_time": "2022-10-23T11:58:39.868Z"
   },
   {
    "duration": 52,
    "start_time": "2022-10-23T12:00:49.119Z"
   },
   {
    "duration": 14,
    "start_time": "2022-10-23T12:00:52.111Z"
   },
   {
    "duration": 507,
    "start_time": "2022-10-23T12:00:59.829Z"
   },
   {
    "duration": 907,
    "start_time": "2022-10-23T12:01:48.769Z"
   },
   {
    "duration": 289,
    "start_time": "2022-10-23T12:02:23.682Z"
   },
   {
    "duration": 727,
    "start_time": "2022-10-23T12:02:29.016Z"
   },
   {
    "duration": 714,
    "start_time": "2022-10-23T12:02:34.419Z"
   },
   {
    "duration": 557,
    "start_time": "2022-10-23T12:05:29.475Z"
   },
   {
    "duration": 706,
    "start_time": "2022-10-23T12:05:33.986Z"
   },
   {
    "duration": 578,
    "start_time": "2022-10-23T12:05:49.866Z"
   },
   {
    "duration": 562,
    "start_time": "2022-10-23T12:05:53.178Z"
   },
   {
    "duration": 199,
    "start_time": "2022-10-23T12:06:10.363Z"
   },
   {
    "duration": 223,
    "start_time": "2022-10-23T12:06:51.336Z"
   },
   {
    "duration": 575,
    "start_time": "2022-10-23T12:07:09.244Z"
   },
   {
    "duration": 1383,
    "start_time": "2022-10-23T12:07:37.257Z"
   },
   {
    "duration": 601,
    "start_time": "2022-10-23T12:07:52.849Z"
   },
   {
    "duration": 333,
    "start_time": "2022-10-23T12:08:01.806Z"
   },
   {
    "duration": 415,
    "start_time": "2022-10-23T12:08:06.030Z"
   },
   {
    "duration": 751,
    "start_time": "2022-10-23T12:08:21.334Z"
   },
   {
    "duration": 711,
    "start_time": "2022-10-23T12:08:37.373Z"
   },
   {
    "duration": 635,
    "start_time": "2022-10-23T12:09:20.733Z"
   },
   {
    "duration": 615,
    "start_time": "2022-10-23T12:09:25.956Z"
   },
   {
    "duration": 272,
    "start_time": "2022-10-23T12:10:03.100Z"
   },
   {
    "duration": 261,
    "start_time": "2022-10-23T12:10:09.130Z"
   },
   {
    "duration": 655,
    "start_time": "2022-10-23T12:10:16.255Z"
   },
   {
    "duration": 702,
    "start_time": "2022-10-23T12:10:37.369Z"
   },
   {
    "duration": 793,
    "start_time": "2022-10-23T12:10:49.989Z"
   },
   {
    "duration": 655,
    "start_time": "2022-10-23T12:12:32.317Z"
   },
   {
    "duration": 43,
    "start_time": "2022-10-23T12:12:38.155Z"
   },
   {
    "duration": 690,
    "start_time": "2022-10-23T12:12:40.348Z"
   },
   {
    "duration": 667,
    "start_time": "2022-10-23T12:13:08.813Z"
   },
   {
    "duration": 636,
    "start_time": "2022-10-23T12:13:27.397Z"
   },
   {
    "duration": 635,
    "start_time": "2022-10-23T12:13:44.321Z"
   },
   {
    "duration": 10,
    "start_time": "2022-10-23T12:24:30.481Z"
   },
   {
    "duration": 11,
    "start_time": "2022-10-23T12:24:35.303Z"
   },
   {
    "duration": 6,
    "start_time": "2022-10-23T12:31:17.117Z"
   },
   {
    "duration": 689,
    "start_time": "2022-10-23T12:32:17.502Z"
   },
   {
    "duration": 381,
    "start_time": "2022-10-23T12:33:41.996Z"
   },
   {
    "duration": 288,
    "start_time": "2022-10-23T12:34:37.269Z"
   },
   {
    "duration": 242,
    "start_time": "2022-10-23T12:53:52.532Z"
   },
   {
    "duration": 5,
    "start_time": "2022-10-23T12:54:59.336Z"
   },
   {
    "duration": 11,
    "start_time": "2022-10-23T12:55:04.157Z"
   },
   {
    "duration": 5,
    "start_time": "2022-10-23T12:55:22.919Z"
   },
   {
    "duration": 10,
    "start_time": "2022-10-23T12:55:26.068Z"
   },
   {
    "duration": 7,
    "start_time": "2022-10-23T12:55:29.350Z"
   },
   {
    "duration": 9,
    "start_time": "2022-10-23T12:55:34.125Z"
   },
   {
    "duration": 4,
    "start_time": "2022-10-23T13:18:08.332Z"
   },
   {
    "duration": 30,
    "start_time": "2022-10-23T13:18:57.356Z"
   },
   {
    "duration": 30,
    "start_time": "2022-10-23T13:19:25.973Z"
   },
   {
    "duration": 3,
    "start_time": "2022-10-23T13:29:01.605Z"
   },
   {
    "duration": 5,
    "start_time": "2022-10-23T13:29:40.955Z"
   },
   {
    "duration": 16,
    "start_time": "2022-10-23T13:29:43.633Z"
   },
   {
    "duration": 10,
    "start_time": "2022-10-23T13:31:13.604Z"
   },
   {
    "duration": 11,
    "start_time": "2022-10-23T13:31:29.273Z"
   },
   {
    "duration": 4,
    "start_time": "2022-10-23T13:32:16.068Z"
   },
   {
    "duration": 20,
    "start_time": "2022-10-23T13:32:22.435Z"
   },
   {
    "duration": 4,
    "start_time": "2022-10-23T13:32:38.367Z"
   },
   {
    "duration": 8,
    "start_time": "2022-10-23T13:32:45.544Z"
   },
   {
    "duration": 10,
    "start_time": "2022-10-23T13:34:00.957Z"
   },
   {
    "duration": 5,
    "start_time": "2022-10-23T13:34:13.046Z"
   },
   {
    "duration": 6,
    "start_time": "2022-10-23T13:34:30.999Z"
   },
   {
    "duration": 4,
    "start_time": "2022-10-23T13:35:06.099Z"
   },
   {
    "duration": 7,
    "start_time": "2022-10-23T13:35:13.296Z"
   },
   {
    "duration": 4,
    "start_time": "2022-10-23T13:35:27.085Z"
   },
   {
    "duration": 8,
    "start_time": "2022-10-23T13:35:46.255Z"
   },
   {
    "duration": 9,
    "start_time": "2022-10-23T13:35:58.566Z"
   },
   {
    "duration": 11,
    "start_time": "2022-10-23T13:36:03.426Z"
   },
   {
    "duration": 10,
    "start_time": "2022-10-23T13:36:07.674Z"
   },
   {
    "duration": 11,
    "start_time": "2022-10-23T13:36:19.250Z"
   },
   {
    "duration": 16,
    "start_time": "2022-10-23T13:36:28.283Z"
   },
   {
    "duration": 10,
    "start_time": "2022-10-23T13:37:36.840Z"
   },
   {
    "duration": 9,
    "start_time": "2022-10-23T13:37:42.960Z"
   },
   {
    "duration": 9,
    "start_time": "2022-10-23T13:37:46.290Z"
   },
   {
    "duration": 4,
    "start_time": "2022-10-23T13:44:01.607Z"
   },
   {
    "duration": 27,
    "start_time": "2022-10-23T15:22:54.228Z"
   },
   {
    "duration": 11,
    "start_time": "2022-10-23T15:23:39.584Z"
   },
   {
    "duration": 9,
    "start_time": "2022-10-23T15:23:52.477Z"
   },
   {
    "duration": 7,
    "start_time": "2022-10-23T15:53:09.658Z"
   },
   {
    "duration": 14,
    "start_time": "2022-10-23T15:53:13.416Z"
   },
   {
    "duration": 9,
    "start_time": "2022-10-23T15:54:05.555Z"
   },
   {
    "duration": 15,
    "start_time": "2022-10-23T15:54:10.296Z"
   },
   {
    "duration": 13,
    "start_time": "2022-10-23T15:54:18.645Z"
   },
   {
    "duration": 7,
    "start_time": "2022-10-23T15:54:23.846Z"
   },
   {
    "duration": 15,
    "start_time": "2022-10-23T15:56:55.395Z"
   },
   {
    "duration": 12,
    "start_time": "2022-10-23T15:57:30.140Z"
   },
   {
    "duration": 11,
    "start_time": "2022-10-23T16:41:01.163Z"
   },
   {
    "duration": 11,
    "start_time": "2022-10-23T16:41:05.326Z"
   },
   {
    "duration": 21,
    "start_time": "2022-10-23T16:41:17.255Z"
   },
   {
    "duration": 10,
    "start_time": "2022-10-23T16:42:02.028Z"
   },
   {
    "duration": 23,
    "start_time": "2022-10-23T16:42:24.852Z"
   },
   {
    "duration": 23,
    "start_time": "2022-10-23T16:43:02.306Z"
   },
   {
    "duration": 23,
    "start_time": "2022-10-23T16:43:08.668Z"
   },
   {
    "duration": 11,
    "start_time": "2022-10-23T16:43:21.928Z"
   },
   {
    "duration": 12,
    "start_time": "2022-10-23T16:43:37.259Z"
   },
   {
    "duration": 3,
    "start_time": "2022-10-23T16:43:44.133Z"
   },
   {
    "duration": 25,
    "start_time": "2022-10-23T16:43:56.042Z"
   },
   {
    "duration": 16,
    "start_time": "2022-10-23T16:45:55.969Z"
   },
   {
    "duration": 5013,
    "start_time": "2022-10-23T16:46:27.367Z"
   },
   {
    "duration": 6272,
    "start_time": "2022-10-23T16:49:29.927Z"
   },
   {
    "duration": 6496,
    "start_time": "2022-10-23T16:49:57.385Z"
   },
   {
    "duration": 8,
    "start_time": "2022-10-23T16:51:52.104Z"
   },
   {
    "duration": 4,
    "start_time": "2022-10-23T16:51:58.967Z"
   },
   {
    "duration": 6643,
    "start_time": "2022-10-23T16:52:38.164Z"
   },
   {
    "duration": 6984,
    "start_time": "2022-10-23T16:53:11.512Z"
   },
   {
    "duration": 5018,
    "start_time": "2022-10-23T16:53:32.970Z"
   },
   {
    "duration": 4049,
    "start_time": "2022-10-23T16:53:47.329Z"
   },
   {
    "duration": 4818,
    "start_time": "2022-10-23T16:54:04.086Z"
   },
   {
    "duration": 4132,
    "start_time": "2022-10-23T16:54:11.270Z"
   },
   {
    "duration": 387,
    "start_time": "2022-10-23T16:55:57.006Z"
   },
   {
    "duration": 934,
    "start_time": "2022-10-23T16:55:57.889Z"
   },
   {
    "duration": 195,
    "start_time": "2022-10-23T17:14:50.136Z"
   },
   {
    "duration": 7,
    "start_time": "2022-10-23T17:15:14.227Z"
   },
   {
    "duration": 5,
    "start_time": "2022-10-23T17:15:20.156Z"
   },
   {
    "duration": 7,
    "start_time": "2022-10-23T17:15:30.330Z"
   },
   {
    "duration": 129,
    "start_time": "2022-10-23T17:17:45.827Z"
   },
   {
    "duration": 151,
    "start_time": "2022-10-23T17:17:51.286Z"
   },
   {
    "duration": 186,
    "start_time": "2022-10-23T17:18:00.036Z"
   },
   {
    "duration": 157,
    "start_time": "2022-10-23T17:18:04.380Z"
   },
   {
    "duration": 123,
    "start_time": "2022-10-23T17:18:11.227Z"
   },
   {
    "duration": 185,
    "start_time": "2022-10-23T17:18:20.937Z"
   },
   {
    "duration": 253,
    "start_time": "2022-10-23T17:18:28.770Z"
   },
   {
    "duration": 187,
    "start_time": "2022-10-23T17:18:36.059Z"
   },
   {
    "duration": 194,
    "start_time": "2022-10-23T17:19:07.728Z"
   },
   {
    "duration": 117,
    "start_time": "2022-10-23T17:19:21.532Z"
   },
   {
    "duration": 7,
    "start_time": "2022-10-23T17:20:36.593Z"
   },
   {
    "duration": 110,
    "start_time": "2022-10-23T17:20:44.238Z"
   },
   {
    "duration": 193,
    "start_time": "2022-10-23T17:21:04.736Z"
   },
   {
    "duration": 199,
    "start_time": "2022-10-23T17:25:00.127Z"
   },
   {
    "duration": 278,
    "start_time": "2022-10-23T17:25:57.544Z"
   },
   {
    "duration": 221,
    "start_time": "2022-10-23T17:26:12.525Z"
   },
   {
    "duration": 178,
    "start_time": "2022-10-23T17:26:17.370Z"
   },
   {
    "duration": 174,
    "start_time": "2022-10-23T17:26:50.760Z"
   },
   {
    "duration": 269,
    "start_time": "2022-10-23T17:34:28.292Z"
   },
   {
    "duration": 443,
    "start_time": "2022-10-23T17:34:36.168Z"
   },
   {
    "duration": 418,
    "start_time": "2022-10-23T17:35:45.326Z"
   },
   {
    "duration": 420,
    "start_time": "2022-10-23T17:35:59.930Z"
   },
   {
    "duration": 387,
    "start_time": "2022-10-23T17:36:12.828Z"
   },
   {
    "duration": 10000,
    "start_time": "2022-10-24T18:11:58.200Z"
   },
   {
    "duration": 1815,
    "start_time": "2022-10-24T18:12:08.203Z"
   },
   {
    "duration": 969,
    "start_time": "2022-10-24T18:12:10.020Z"
   },
   {
    "duration": 11,
    "start_time": "2022-10-24T18:12:10.991Z"
   },
   {
    "duration": 18,
    "start_time": "2022-10-24T18:12:11.005Z"
   },
   {
    "duration": 14,
    "start_time": "2022-10-24T18:12:11.024Z"
   },
   {
    "duration": 29,
    "start_time": "2022-10-24T18:12:11.039Z"
   },
   {
    "duration": 10,
    "start_time": "2022-10-24T18:12:11.069Z"
   },
   {
    "duration": 413,
    "start_time": "2022-10-24T18:12:11.080Z"
   },
   {
    "duration": 1085,
    "start_time": "2022-10-24T18:12:11.495Z"
   },
   {
    "duration": 620,
    "start_time": "2022-10-24T18:12:12.582Z"
   },
   {
    "duration": 433,
    "start_time": "2022-10-24T18:12:13.208Z"
   },
   {
    "duration": 14,
    "start_time": "2022-10-24T18:12:13.643Z"
   },
   {
    "duration": 249,
    "start_time": "2022-10-24T18:12:13.660Z"
   },
   {
    "duration": 419,
    "start_time": "2022-10-24T18:12:13.911Z"
   },
   {
    "duration": 428,
    "start_time": "2022-10-24T18:12:14.331Z"
   },
   {
    "duration": 449,
    "start_time": "2022-10-24T18:12:14.761Z"
   },
   {
    "duration": 468,
    "start_time": "2022-10-24T18:12:15.212Z"
   },
   {
    "duration": 542,
    "start_time": "2022-10-24T18:12:15.681Z"
   },
   {
    "duration": 285,
    "start_time": "2022-10-24T18:12:16.224Z"
   },
   {
    "duration": 207,
    "start_time": "2022-10-24T18:12:16.511Z"
   },
   {
    "duration": 214,
    "start_time": "2022-10-24T18:12:16.720Z"
   },
   {
    "duration": 596,
    "start_time": "2022-10-24T18:12:16.936Z"
   },
   {
    "duration": 191,
    "start_time": "2022-10-24T18:12:17.534Z"
   },
   {
    "duration": 209,
    "start_time": "2022-10-24T18:12:17.727Z"
   },
   {
    "duration": 78,
    "start_time": "2022-10-24T18:12:17.938Z"
   },
   {
    "duration": 5,
    "start_time": "2022-10-24T18:12:18.017Z"
   },
   {
    "duration": 9,
    "start_time": "2022-10-24T18:12:18.023Z"
   },
   {
    "duration": 281,
    "start_time": "2022-10-24T18:12:18.034Z"
   },
   {
    "duration": 303,
    "start_time": "2022-10-24T18:12:18.316Z"
   },
   {
    "duration": 317,
    "start_time": "2022-10-24T18:12:18.620Z"
   },
   {
    "duration": 4,
    "start_time": "2022-10-24T18:12:18.938Z"
   },
   {
    "duration": 253,
    "start_time": "2022-10-24T18:12:18.943Z"
   },
   {
    "duration": 339,
    "start_time": "2022-10-24T18:12:19.198Z"
   },
   {
    "duration": 268,
    "start_time": "2022-10-24T18:12:19.540Z"
   },
   {
    "duration": 354,
    "start_time": "2022-10-24T18:12:19.810Z"
   },
   {
    "duration": 293,
    "start_time": "2022-10-24T18:12:20.166Z"
   },
   {
    "duration": 278,
    "start_time": "2022-10-24T18:12:20.461Z"
   },
   {
    "duration": 335,
    "start_time": "2022-10-24T18:12:20.741Z"
   },
   {
    "duration": 505,
    "start_time": "2022-10-24T18:12:21.077Z"
   },
   {
    "duration": 272,
    "start_time": "2022-10-24T18:12:21.587Z"
   },
   {
    "duration": 421,
    "start_time": "2022-10-24T18:12:21.861Z"
   },
   {
    "duration": 414,
    "start_time": "2022-10-24T18:12:22.284Z"
   },
   {
    "duration": 440,
    "start_time": "2022-10-24T18:12:22.708Z"
   },
   {
    "duration": 415,
    "start_time": "2022-10-24T18:12:23.150Z"
   },
   {
    "duration": 318,
    "start_time": "2022-10-24T18:12:23.567Z"
   },
   {
    "duration": 364,
    "start_time": "2022-10-24T18:12:23.887Z"
   },
   {
    "duration": 271,
    "start_time": "2022-10-24T18:12:24.253Z"
   },
   {
    "duration": 389,
    "start_time": "2022-10-24T18:12:24.526Z"
   },
   {
    "duration": 264,
    "start_time": "2022-10-24T18:12:24.917Z"
   },
   {
    "duration": 577,
    "start_time": "2022-10-24T18:12:25.182Z"
   },
   {
    "duration": 1119,
    "start_time": "2022-10-24T18:12:25.761Z"
   },
   {
    "duration": 1850,
    "start_time": "2022-10-24T18:12:26.881Z"
   },
   {
    "duration": 18,
    "start_time": "2022-10-24T18:12:28.733Z"
   },
   {
    "duration": 21,
    "start_time": "2022-10-24T18:12:28.752Z"
   },
   {
    "duration": 40,
    "start_time": "2022-10-24T18:12:28.775Z"
   },
   {
    "duration": 16,
    "start_time": "2022-10-24T18:12:28.817Z"
   },
   {
    "duration": 13,
    "start_time": "2022-10-24T18:12:28.834Z"
   },
   {
    "duration": 14,
    "start_time": "2022-10-24T18:12:28.849Z"
   },
   {
    "duration": 12,
    "start_time": "2022-10-24T18:12:28.865Z"
   },
   {
    "duration": 44,
    "start_time": "2022-10-24T18:12:28.878Z"
   },
   {
    "duration": 47,
    "start_time": "2022-10-24T18:12:28.923Z"
   },
   {
    "duration": 309,
    "start_time": "2022-10-24T18:12:32.458Z"
   },
   {
    "duration": 253,
    "start_time": "2022-10-24T18:13:25.666Z"
   },
   {
    "duration": 271,
    "start_time": "2022-10-24T18:14:12.894Z"
   }
  ],
  "kernelspec": {
   "display_name": "Python 3 (ipykernel)",
   "language": "python",
   "name": "python3"
  },
  "language_info": {
   "codemirror_mode": {
    "name": "ipython",
    "version": 3
   },
   "file_extension": ".py",
   "mimetype": "text/x-python",
   "name": "python",
   "nbconvert_exporter": "python",
   "pygments_lexer": "ipython3",
   "version": "3.9.12"
  },
  "toc": {
   "base_numbering": 1,
   "nav_menu": {},
   "number_sections": false,
   "sideBar": true,
   "skip_h1_title": false,
   "title_cell": "Содержание",
   "title_sidebar": "Contents",
   "toc_cell": true,
   "toc_position": {
    "height": "568px",
    "left": "22px",
    "top": "111.125px",
    "width": "309px"
   },
   "toc_section_display": true,
   "toc_window_display": true
  },
  "toc-autonumbering": false,
  "toc-showcode": false,
  "toc-showmarkdowntxt": true,
  "toc-showtags": false
 },
 "nbformat": 4,
 "nbformat_minor": 5
}
